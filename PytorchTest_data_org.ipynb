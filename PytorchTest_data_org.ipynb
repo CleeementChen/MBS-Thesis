{
 "cells": [
  {
   "cell_type": "code",
   "execution_count": 1,
   "id": "33e64356-5f69-41dc-a3fa-32995f1fc0cc",
   "metadata": {},
   "outputs": [
    {
     "name": "stdout",
     "output_type": "stream",
     "text": [
      "Requirement already satisfied: torch in /opt/anaconda3/envs/tf1/lib/python3.10/site-packages (2.4.0)\n",
      "Requirement already satisfied: torchvision in /opt/anaconda3/envs/tf1/lib/python3.10/site-packages (0.19.0)\n",
      "Requirement already satisfied: torchaudio in /opt/anaconda3/envs/tf1/lib/python3.10/site-packages (2.4.0)\n",
      "Requirement already satisfied: filelock in /opt/anaconda3/envs/tf1/lib/python3.10/site-packages (from torch) (3.15.4)\n",
      "Requirement already satisfied: typing-extensions>=4.8.0 in /opt/anaconda3/envs/tf1/lib/python3.10/site-packages (from torch) (4.12.2)\n",
      "Requirement already satisfied: sympy in /opt/anaconda3/envs/tf1/lib/python3.10/site-packages (from torch) (1.13.1)\n",
      "Requirement already satisfied: networkx in /opt/anaconda3/envs/tf1/lib/python3.10/site-packages (from torch) (3.3)\n",
      "Requirement already satisfied: jinja2 in /opt/anaconda3/envs/tf1/lib/python3.10/site-packages (from torch) (3.1.4)\n",
      "Requirement already satisfied: fsspec in /opt/anaconda3/envs/tf1/lib/python3.10/site-packages (from torch) (2024.6.1)\n",
      "Requirement already satisfied: numpy in /opt/anaconda3/envs/tf1/lib/python3.10/site-packages (from torchvision) (1.26.4)\n",
      "Requirement already satisfied: pillow!=8.3.*,>=5.3.0 in /opt/anaconda3/envs/tf1/lib/python3.10/site-packages (from torchvision) (10.4.0)\n",
      "Requirement already satisfied: MarkupSafe>=2.0 in /opt/anaconda3/envs/tf1/lib/python3.10/site-packages (from jinja2->torch) (2.1.5)\n",
      "Requirement already satisfied: mpmath<1.4,>=1.1.0 in /opt/anaconda3/envs/tf1/lib/python3.10/site-packages (from sympy->torch) (1.3.0)\n"
     ]
    }
   ],
   "source": [
    "!pip install torch torchvision torchaudio"
   ]
  },
  {
   "cell_type": "code",
   "execution_count": 2,
   "id": "ecfd84fa-0fcb-45b8-8c78-a850e1f687be",
   "metadata": {},
   "outputs": [
    {
     "name": "stdout",
     "output_type": "stream",
     "text": [
      "2.4.0\n"
     ]
    }
   ],
   "source": [
    "!python -c \"import torch; print(torch.__version__)\""
   ]
  },
  {
   "cell_type": "code",
   "execution_count": 3,
   "id": "42c59a46-7fab-4cca-85f0-87fdffe94c98",
   "metadata": {},
   "outputs": [
    {
     "name": "stdout",
     "output_type": "stream",
     "text": [
      "Requirement already satisfied: torch_geometric==2.2.0 in /opt/anaconda3/envs/tf1/lib/python3.10/site-packages (2.2.0)\n",
      "Requirement already satisfied: tqdm in /opt/anaconda3/envs/tf1/lib/python3.10/site-packages (from torch_geometric==2.2.0) (4.66.4)\n",
      "Requirement already satisfied: numpy in /opt/anaconda3/envs/tf1/lib/python3.10/site-packages (from torch_geometric==2.2.0) (1.26.4)\n",
      "Requirement already satisfied: scipy in /opt/anaconda3/envs/tf1/lib/python3.10/site-packages (from torch_geometric==2.2.0) (1.14.0)\n",
      "Requirement already satisfied: jinja2 in /opt/anaconda3/envs/tf1/lib/python3.10/site-packages (from torch_geometric==2.2.0) (3.1.4)\n",
      "Requirement already satisfied: requests in /opt/anaconda3/envs/tf1/lib/python3.10/site-packages (from torch_geometric==2.2.0) (2.32.3)\n",
      "Requirement already satisfied: pyparsing in /opt/anaconda3/envs/tf1/lib/python3.10/site-packages (from torch_geometric==2.2.0) (3.1.2)\n",
      "Requirement already satisfied: scikit-learn in /opt/anaconda3/envs/tf1/lib/python3.10/site-packages (from torch_geometric==2.2.0) (1.5.1)\n",
      "Requirement already satisfied: psutil>=5.8.0 in /opt/anaconda3/envs/tf1/lib/python3.10/site-packages (from torch_geometric==2.2.0) (6.0.0)\n",
      "Requirement already satisfied: MarkupSafe>=2.0 in /opt/anaconda3/envs/tf1/lib/python3.10/site-packages (from jinja2->torch_geometric==2.2.0) (2.1.5)\n",
      "Requirement already satisfied: charset-normalizer<4,>=2 in /opt/anaconda3/envs/tf1/lib/python3.10/site-packages (from requests->torch_geometric==2.2.0) (3.3.2)\n",
      "Requirement already satisfied: idna<4,>=2.5 in /opt/anaconda3/envs/tf1/lib/python3.10/site-packages (from requests->torch_geometric==2.2.0) (3.7)\n",
      "Requirement already satisfied: urllib3<3,>=1.21.1 in /opt/anaconda3/envs/tf1/lib/python3.10/site-packages (from requests->torch_geometric==2.2.0) (2.2.2)\n",
      "Requirement already satisfied: certifi>=2017.4.17 in /opt/anaconda3/envs/tf1/lib/python3.10/site-packages (from requests->torch_geometric==2.2.0) (2024.7.4)\n",
      "Requirement already satisfied: joblib>=1.2.0 in /opt/anaconda3/envs/tf1/lib/python3.10/site-packages (from scikit-learn->torch_geometric==2.2.0) (1.4.2)\n",
      "Requirement already satisfied: threadpoolctl>=3.1.0 in /opt/anaconda3/envs/tf1/lib/python3.10/site-packages (from scikit-learn->torch_geometric==2.2.0) (3.5.0)\n"
     ]
    }
   ],
   "source": [
    "!pip install torch_geometric==2.2.0"
   ]
  },
  {
   "cell_type": "code",
   "execution_count": 4,
   "id": "1355397c-c873-45db-8ce9-02e268e46681",
   "metadata": {},
   "outputs": [
    {
     "name": "stdout",
     "output_type": "stream",
     "text": [
      "Requirement already satisfied: torch_geometric_temporal in /opt/anaconda3/envs/tf1/lib/python3.10/site-packages (0.54.0)\n",
      "Requirement already satisfied: decorator==4.4.2 in /opt/anaconda3/envs/tf1/lib/python3.10/site-packages (from torch_geometric_temporal) (4.4.2)\n",
      "Requirement already satisfied: torch in /opt/anaconda3/envs/tf1/lib/python3.10/site-packages (from torch_geometric_temporal) (2.4.0)\n",
      "Requirement already satisfied: cython in /opt/anaconda3/envs/tf1/lib/python3.10/site-packages (from torch_geometric_temporal) (3.0.10)\n",
      "Requirement already satisfied: pandas<=1.3.5 in /opt/anaconda3/envs/tf1/lib/python3.10/site-packages (from torch_geometric_temporal) (1.3.5)\n",
      "Requirement already satisfied: torch-sparse in /opt/anaconda3/envs/tf1/lib/python3.10/site-packages (from torch_geometric_temporal) (0.6.18)\n",
      "Requirement already satisfied: torch-scatter in /opt/anaconda3/envs/tf1/lib/python3.10/site-packages (from torch_geometric_temporal) (2.1.2)\n",
      "Requirement already satisfied: torch-geometric in /opt/anaconda3/envs/tf1/lib/python3.10/site-packages (from torch_geometric_temporal) (2.2.0)\n",
      "Requirement already satisfied: numpy in /opt/anaconda3/envs/tf1/lib/python3.10/site-packages (from torch_geometric_temporal) (1.26.4)\n",
      "Requirement already satisfied: six in /opt/anaconda3/envs/tf1/lib/python3.10/site-packages (from torch_geometric_temporal) (1.16.0)\n",
      "Requirement already satisfied: networkx in /opt/anaconda3/envs/tf1/lib/python3.10/site-packages (from torch_geometric_temporal) (3.3)\n",
      "Requirement already satisfied: python-dateutil>=2.7.3 in /opt/anaconda3/envs/tf1/lib/python3.10/site-packages (from pandas<=1.3.5->torch_geometric_temporal) (2.9.0.post0)\n",
      "Requirement already satisfied: pytz>=2017.3 in /opt/anaconda3/envs/tf1/lib/python3.10/site-packages (from pandas<=1.3.5->torch_geometric_temporal) (2024.1)\n",
      "Requirement already satisfied: filelock in /opt/anaconda3/envs/tf1/lib/python3.10/site-packages (from torch->torch_geometric_temporal) (3.15.4)\n",
      "Requirement already satisfied: typing-extensions>=4.8.0 in /opt/anaconda3/envs/tf1/lib/python3.10/site-packages (from torch->torch_geometric_temporal) (4.12.2)\n",
      "Requirement already satisfied: sympy in /opt/anaconda3/envs/tf1/lib/python3.10/site-packages (from torch->torch_geometric_temporal) (1.13.1)\n",
      "Requirement already satisfied: jinja2 in /opt/anaconda3/envs/tf1/lib/python3.10/site-packages (from torch->torch_geometric_temporal) (3.1.4)\n",
      "Requirement already satisfied: fsspec in /opt/anaconda3/envs/tf1/lib/python3.10/site-packages (from torch->torch_geometric_temporal) (2024.6.1)\n",
      "Requirement already satisfied: tqdm in /opt/anaconda3/envs/tf1/lib/python3.10/site-packages (from torch-geometric->torch_geometric_temporal) (4.66.4)\n",
      "Requirement already satisfied: scipy in /opt/anaconda3/envs/tf1/lib/python3.10/site-packages (from torch-geometric->torch_geometric_temporal) (1.14.0)\n",
      "Requirement already satisfied: requests in /opt/anaconda3/envs/tf1/lib/python3.10/site-packages (from torch-geometric->torch_geometric_temporal) (2.32.3)\n",
      "Requirement already satisfied: pyparsing in /opt/anaconda3/envs/tf1/lib/python3.10/site-packages (from torch-geometric->torch_geometric_temporal) (3.1.2)\n",
      "Requirement already satisfied: scikit-learn in /opt/anaconda3/envs/tf1/lib/python3.10/site-packages (from torch-geometric->torch_geometric_temporal) (1.5.1)\n",
      "Requirement already satisfied: psutil>=5.8.0 in /opt/anaconda3/envs/tf1/lib/python3.10/site-packages (from torch-geometric->torch_geometric_temporal) (6.0.0)\n",
      "Requirement already satisfied: MarkupSafe>=2.0 in /opt/anaconda3/envs/tf1/lib/python3.10/site-packages (from jinja2->torch->torch_geometric_temporal) (2.1.5)\n",
      "Requirement already satisfied: charset-normalizer<4,>=2 in /opt/anaconda3/envs/tf1/lib/python3.10/site-packages (from requests->torch-geometric->torch_geometric_temporal) (3.3.2)\n",
      "Requirement already satisfied: idna<4,>=2.5 in /opt/anaconda3/envs/tf1/lib/python3.10/site-packages (from requests->torch-geometric->torch_geometric_temporal) (3.7)\n",
      "Requirement already satisfied: urllib3<3,>=1.21.1 in /opt/anaconda3/envs/tf1/lib/python3.10/site-packages (from requests->torch-geometric->torch_geometric_temporal) (2.2.2)\n",
      "Requirement already satisfied: certifi>=2017.4.17 in /opt/anaconda3/envs/tf1/lib/python3.10/site-packages (from requests->torch-geometric->torch_geometric_temporal) (2024.7.4)\n",
      "Requirement already satisfied: joblib>=1.2.0 in /opt/anaconda3/envs/tf1/lib/python3.10/site-packages (from scikit-learn->torch-geometric->torch_geometric_temporal) (1.4.2)\n",
      "Requirement already satisfied: threadpoolctl>=3.1.0 in /opt/anaconda3/envs/tf1/lib/python3.10/site-packages (from scikit-learn->torch-geometric->torch_geometric_temporal) (3.5.0)\n",
      "Requirement already satisfied: mpmath<1.4,>=1.1.0 in /opt/anaconda3/envs/tf1/lib/python3.10/site-packages (from sympy->torch->torch_geometric_temporal) (1.3.0)\n"
     ]
    }
   ],
   "source": [
    "!pip install torch_geometric_temporal"
   ]
  },
  {
   "cell_type": "code",
   "execution_count": 1,
   "id": "93eec565-b746-4981-bfa6-a6188d57aeac",
   "metadata": {},
   "outputs": [
    {
     "name": "stdout",
     "output_type": "stream",
     "text": [
      "PyTorch version: 2.4.0\n",
      "CUDA version: None\n",
      "PyTorch Geometric version: 2.2.0\n",
      "PyTorch Geometric Temporal version: 0.54.0\n"
     ]
    }
   ],
   "source": [
    "import torch\n",
    "import torch_geometric\n",
    "import torch_geometric_temporal\n",
    "\n",
    "# 查看 PyTorch 版本\n",
    "print(\"PyTorch version:\", torch.__version__)\n",
    "\n",
    "# 查看 CUDA 版本\n",
    "print(\"CUDA version:\", torch.version.cuda)\n",
    "\n",
    "# 查看 PyTorch Geometric 版本\n",
    "print(\"PyTorch Geometric version:\", torch_geometric.__version__)\n",
    "\n",
    "# 查看 PyTorch Geometric Temporal 版本\n",
    "print(\"PyTorch Geometric Temporal version:\", torch_geometric_temporal.__version__)"
   ]
  },
  {
   "cell_type": "code",
   "execution_count": 24,
   "id": "410c497b-7a83-40d6-84b7-e50171138ebf",
   "metadata": {},
   "outputs": [],
   "source": [
    "import pandas as pd\n",
    "import numpy as np\n",
    "import matplotlib.pyplot as plt\n",
    "import networkx as nx\n",
    "\n",
    "import torch\n",
    "import torch.nn.functional as F\n",
    "from torch_geometric.nn import GCNConv\n",
    "from torch_geometric_temporal.nn.recurrent import GConvLSTM\n",
    "from torch_geometric_temporal.signal import temporal_signal_split\n",
    "from torch_geometric_temporal.dataset import METRLADatasetLoader\n",
    "from torch_geometric_temporal.nn.recurrent import GConvGRU\n",
    "from torch_geometric_temporal.signal import StaticGraphTemporalSignal\n",
    "\n",
    "\n",
    "from sklearn.metrics.pairwise import cosine_similarity"
   ]
  },
  {
   "cell_type": "code",
   "execution_count": 25,
   "id": "3e279c22-8310-4904-a9e8-e59afe9d96c2",
   "metadata": {},
   "outputs": [],
   "source": [
    "df = pd.read_csv('m5-forecasting-accuracy/sales_train_evaluation.csv')\n",
    "\n",
    "# 抓出 cat_id 為 \"HOBBIES\" 的數據\n",
    "df_hobbies = df[df['cat_id'] == 'HOBBIES']\n",
    "#df_hobbies"
   ]
  },
  {
   "cell_type": "code",
   "execution_count": 26,
   "id": "da11350f-7a86-422b-9bcd-493537225a54",
   "metadata": {},
   "outputs": [],
   "source": [
    "# 提取所有日期列\n",
    "date_columns = [col for col in df_hobbies.columns if col.startswith('d_')]\n",
    "# 確認總共有多少天\n",
    "total_days = len(date_columns)\n",
    "# 選擇最後365天的列\n",
    "last_365_days_columns = date_columns[-365:]\n",
    "# 篩選出這些天數的銷售數據\n",
    "sales_data_last_365 = df_hobbies[last_365_days_columns]"
   ]
  },
  {
   "cell_type": "code",
   "execution_count": 50,
   "id": "99c8c4aa-e567-4e31-9552-f8997997e623",
   "metadata": {},
   "outputs": [
    {
     "data": {
      "text/html": [
       "<div>\n",
       "<style scoped>\n",
       "    .dataframe tbody tr th:only-of-type {\n",
       "        vertical-align: middle;\n",
       "    }\n",
       "\n",
       "    .dataframe tbody tr th {\n",
       "        vertical-align: top;\n",
       "    }\n",
       "\n",
       "    .dataframe thead th {\n",
       "        text-align: right;\n",
       "    }\n",
       "</style>\n",
       "<table border=\"1\" class=\"dataframe\">\n",
       "  <thead>\n",
       "    <tr style=\"text-align: right;\">\n",
       "      <th></th>\n",
       "      <th>d_1577</th>\n",
       "      <th>d_1578</th>\n",
       "      <th>d_1579</th>\n",
       "      <th>d_1580</th>\n",
       "      <th>d_1581</th>\n",
       "      <th>d_1582</th>\n",
       "      <th>d_1583</th>\n",
       "      <th>d_1584</th>\n",
       "      <th>d_1585</th>\n",
       "      <th>d_1586</th>\n",
       "      <th>...</th>\n",
       "      <th>d_1932</th>\n",
       "      <th>d_1933</th>\n",
       "      <th>d_1934</th>\n",
       "      <th>d_1935</th>\n",
       "      <th>d_1936</th>\n",
       "      <th>d_1937</th>\n",
       "      <th>d_1938</th>\n",
       "      <th>d_1939</th>\n",
       "      <th>d_1940</th>\n",
       "      <th>d_1941</th>\n",
       "    </tr>\n",
       "  </thead>\n",
       "  <tbody>\n",
       "    <tr>\n",
       "      <th>0</th>\n",
       "      <td>0</td>\n",
       "      <td>0</td>\n",
       "      <td>0</td>\n",
       "      <td>0</td>\n",
       "      <td>0</td>\n",
       "      <td>0</td>\n",
       "      <td>0</td>\n",
       "      <td>0</td>\n",
       "      <td>0</td>\n",
       "      <td>0</td>\n",
       "      <td>...</td>\n",
       "      <td>2</td>\n",
       "      <td>4</td>\n",
       "      <td>0</td>\n",
       "      <td>0</td>\n",
       "      <td>0</td>\n",
       "      <td>0</td>\n",
       "      <td>3</td>\n",
       "      <td>3</td>\n",
       "      <td>0</td>\n",
       "      <td>1</td>\n",
       "    </tr>\n",
       "    <tr>\n",
       "      <th>1</th>\n",
       "      <td>0</td>\n",
       "      <td>1</td>\n",
       "      <td>0</td>\n",
       "      <td>0</td>\n",
       "      <td>0</td>\n",
       "      <td>0</td>\n",
       "      <td>0</td>\n",
       "      <td>0</td>\n",
       "      <td>1</td>\n",
       "      <td>0</td>\n",
       "      <td>...</td>\n",
       "      <td>0</td>\n",
       "      <td>1</td>\n",
       "      <td>2</td>\n",
       "      <td>1</td>\n",
       "      <td>1</td>\n",
       "      <td>0</td>\n",
       "      <td>0</td>\n",
       "      <td>0</td>\n",
       "      <td>0</td>\n",
       "      <td>0</td>\n",
       "    </tr>\n",
       "    <tr>\n",
       "      <th>2</th>\n",
       "      <td>0</td>\n",
       "      <td>1</td>\n",
       "      <td>0</td>\n",
       "      <td>1</td>\n",
       "      <td>0</td>\n",
       "      <td>0</td>\n",
       "      <td>2</td>\n",
       "      <td>0</td>\n",
       "      <td>0</td>\n",
       "      <td>0</td>\n",
       "      <td>...</td>\n",
       "      <td>1</td>\n",
       "      <td>0</td>\n",
       "      <td>2</td>\n",
       "      <td>0</td>\n",
       "      <td>0</td>\n",
       "      <td>0</td>\n",
       "      <td>2</td>\n",
       "      <td>3</td>\n",
       "      <td>0</td>\n",
       "      <td>1</td>\n",
       "    </tr>\n",
       "    <tr>\n",
       "      <th>3</th>\n",
       "      <td>2</td>\n",
       "      <td>2</td>\n",
       "      <td>2</td>\n",
       "      <td>2</td>\n",
       "      <td>2</td>\n",
       "      <td>1</td>\n",
       "      <td>0</td>\n",
       "      <td>13</td>\n",
       "      <td>0</td>\n",
       "      <td>0</td>\n",
       "      <td>...</td>\n",
       "      <td>1</td>\n",
       "      <td>1</td>\n",
       "      <td>0</td>\n",
       "      <td>4</td>\n",
       "      <td>0</td>\n",
       "      <td>1</td>\n",
       "      <td>3</td>\n",
       "      <td>0</td>\n",
       "      <td>2</td>\n",
       "      <td>6</td>\n",
       "    </tr>\n",
       "    <tr>\n",
       "      <th>4</th>\n",
       "      <td>3</td>\n",
       "      <td>1</td>\n",
       "      <td>0</td>\n",
       "      <td>0</td>\n",
       "      <td>0</td>\n",
       "      <td>0</td>\n",
       "      <td>2</td>\n",
       "      <td>1</td>\n",
       "      <td>1</td>\n",
       "      <td>0</td>\n",
       "      <td>...</td>\n",
       "      <td>0</td>\n",
       "      <td>0</td>\n",
       "      <td>0</td>\n",
       "      <td>2</td>\n",
       "      <td>1</td>\n",
       "      <td>0</td>\n",
       "      <td>0</td>\n",
       "      <td>2</td>\n",
       "      <td>1</td>\n",
       "      <td>0</td>\n",
       "    </tr>\n",
       "    <tr>\n",
       "      <th>...</th>\n",
       "      <td>...</td>\n",
       "      <td>...</td>\n",
       "      <td>...</td>\n",
       "      <td>...</td>\n",
       "      <td>...</td>\n",
       "      <td>...</td>\n",
       "      <td>...</td>\n",
       "      <td>...</td>\n",
       "      <td>...</td>\n",
       "      <td>...</td>\n",
       "      <td>...</td>\n",
       "      <td>...</td>\n",
       "      <td>...</td>\n",
       "      <td>...</td>\n",
       "      <td>...</td>\n",
       "      <td>...</td>\n",
       "      <td>...</td>\n",
       "      <td>...</td>\n",
       "      <td>...</td>\n",
       "      <td>...</td>\n",
       "      <td>...</td>\n",
       "    </tr>\n",
       "    <tr>\n",
       "      <th>28001</th>\n",
       "      <td>0</td>\n",
       "      <td>0</td>\n",
       "      <td>1</td>\n",
       "      <td>0</td>\n",
       "      <td>0</td>\n",
       "      <td>0</td>\n",
       "      <td>2</td>\n",
       "      <td>0</td>\n",
       "      <td>0</td>\n",
       "      <td>0</td>\n",
       "      <td>...</td>\n",
       "      <td>0</td>\n",
       "      <td>0</td>\n",
       "      <td>0</td>\n",
       "      <td>0</td>\n",
       "      <td>1</td>\n",
       "      <td>0</td>\n",
       "      <td>0</td>\n",
       "      <td>1</td>\n",
       "      <td>0</td>\n",
       "      <td>0</td>\n",
       "    </tr>\n",
       "    <tr>\n",
       "      <th>28002</th>\n",
       "      <td>0</td>\n",
       "      <td>0</td>\n",
       "      <td>0</td>\n",
       "      <td>0</td>\n",
       "      <td>0</td>\n",
       "      <td>2</td>\n",
       "      <td>0</td>\n",
       "      <td>0</td>\n",
       "      <td>0</td>\n",
       "      <td>0</td>\n",
       "      <td>...</td>\n",
       "      <td>0</td>\n",
       "      <td>0</td>\n",
       "      <td>0</td>\n",
       "      <td>0</td>\n",
       "      <td>0</td>\n",
       "      <td>0</td>\n",
       "      <td>0</td>\n",
       "      <td>0</td>\n",
       "      <td>0</td>\n",
       "      <td>0</td>\n",
       "    </tr>\n",
       "    <tr>\n",
       "      <th>28003</th>\n",
       "      <td>0</td>\n",
       "      <td>0</td>\n",
       "      <td>0</td>\n",
       "      <td>1</td>\n",
       "      <td>0</td>\n",
       "      <td>0</td>\n",
       "      <td>0</td>\n",
       "      <td>0</td>\n",
       "      <td>0</td>\n",
       "      <td>1</td>\n",
       "      <td>...</td>\n",
       "      <td>0</td>\n",
       "      <td>2</td>\n",
       "      <td>0</td>\n",
       "      <td>0</td>\n",
       "      <td>0</td>\n",
       "      <td>1</td>\n",
       "      <td>2</td>\n",
       "      <td>0</td>\n",
       "      <td>0</td>\n",
       "      <td>0</td>\n",
       "    </tr>\n",
       "    <tr>\n",
       "      <th>28004</th>\n",
       "      <td>0</td>\n",
       "      <td>0</td>\n",
       "      <td>0</td>\n",
       "      <td>0</td>\n",
       "      <td>1</td>\n",
       "      <td>0</td>\n",
       "      <td>0</td>\n",
       "      <td>0</td>\n",
       "      <td>0</td>\n",
       "      <td>0</td>\n",
       "      <td>...</td>\n",
       "      <td>0</td>\n",
       "      <td>0</td>\n",
       "      <td>0</td>\n",
       "      <td>0</td>\n",
       "      <td>1</td>\n",
       "      <td>2</td>\n",
       "      <td>0</td>\n",
       "      <td>0</td>\n",
       "      <td>1</td>\n",
       "      <td>0</td>\n",
       "    </tr>\n",
       "    <tr>\n",
       "      <th>28005</th>\n",
       "      <td>0</td>\n",
       "      <td>0</td>\n",
       "      <td>2</td>\n",
       "      <td>0</td>\n",
       "      <td>0</td>\n",
       "      <td>0</td>\n",
       "      <td>0</td>\n",
       "      <td>0</td>\n",
       "      <td>0</td>\n",
       "      <td>0</td>\n",
       "      <td>...</td>\n",
       "      <td>1</td>\n",
       "      <td>1</td>\n",
       "      <td>0</td>\n",
       "      <td>0</td>\n",
       "      <td>2</td>\n",
       "      <td>0</td>\n",
       "      <td>0</td>\n",
       "      <td>0</td>\n",
       "      <td>0</td>\n",
       "      <td>0</td>\n",
       "    </tr>\n",
       "  </tbody>\n",
       "</table>\n",
       "<p>5650 rows × 365 columns</p>\n",
       "</div>"
      ],
      "text/plain": [
       "       d_1577  d_1578  d_1579  d_1580  d_1581  d_1582  d_1583  d_1584  d_1585  \\\n",
       "0           0       0       0       0       0       0       0       0       0   \n",
       "1           0       1       0       0       0       0       0       0       1   \n",
       "2           0       1       0       1       0       0       2       0       0   \n",
       "3           2       2       2       2       2       1       0      13       0   \n",
       "4           3       1       0       0       0       0       2       1       1   \n",
       "...       ...     ...     ...     ...     ...     ...     ...     ...     ...   \n",
       "28001       0       0       1       0       0       0       2       0       0   \n",
       "28002       0       0       0       0       0       2       0       0       0   \n",
       "28003       0       0       0       1       0       0       0       0       0   \n",
       "28004       0       0       0       0       1       0       0       0       0   \n",
       "28005       0       0       2       0       0       0       0       0       0   \n",
       "\n",
       "       d_1586  ...  d_1932  d_1933  d_1934  d_1935  d_1936  d_1937  d_1938  \\\n",
       "0           0  ...       2       4       0       0       0       0       3   \n",
       "1           0  ...       0       1       2       1       1       0       0   \n",
       "2           0  ...       1       0       2       0       0       0       2   \n",
       "3           0  ...       1       1       0       4       0       1       3   \n",
       "4           0  ...       0       0       0       2       1       0       0   \n",
       "...       ...  ...     ...     ...     ...     ...     ...     ...     ...   \n",
       "28001       0  ...       0       0       0       0       1       0       0   \n",
       "28002       0  ...       0       0       0       0       0       0       0   \n",
       "28003       1  ...       0       2       0       0       0       1       2   \n",
       "28004       0  ...       0       0       0       0       1       2       0   \n",
       "28005       0  ...       1       1       0       0       2       0       0   \n",
       "\n",
       "       d_1939  d_1940  d_1941  \n",
       "0           3       0       1  \n",
       "1           0       0       0  \n",
       "2           3       0       1  \n",
       "3           0       2       6  \n",
       "4           2       1       0  \n",
       "...       ...     ...     ...  \n",
       "28001       1       0       0  \n",
       "28002       0       0       0  \n",
       "28003       0       0       0  \n",
       "28004       0       1       0  \n",
       "28005       0       0       0  \n",
       "\n",
       "[5650 rows x 365 columns]"
      ]
     },
     "execution_count": 50,
     "metadata": {},
     "output_type": "execute_result"
    }
   ],
   "source": [
    "sales_data_last_365"
   ]
  },
  {
   "cell_type": "code",
   "execution_count": null,
   "id": "ba752996-b34f-4fb6-9d69-4e63e380159b",
   "metadata": {},
   "outputs": [],
   "source": []
  },
  {
   "cell_type": "code",
   "execution_count": 28,
   "id": "2def075f-cabd-43f2-9b35-4434b4925b40",
   "metadata": {},
   "outputs": [],
   "source": [
    "# 將前一天的銷售數據作為特徵，當天的銷售數據作為標籤\n",
    "node_features = sales_data_last_365.iloc[:, :-1]  # 前 364 天作為特徵\n",
    "labels = sales_data_last_365.iloc[:, 1:].values   # 第 2 到 365 天作為標籤"
   ]
  },
  {
   "cell_type": "code",
   "execution_count": 29,
   "id": "8e608a4d-9e80-43ae-b654-4a719b5f8872",
   "metadata": {},
   "outputs": [],
   "source": [
    "# 計算餘弦相似度矩陣\n",
    "#cosine_sim_matrix = cosine_similarity(node_features)\n",
    "cosine_sim_matrix = cosine_similarity(node_features)\n",
    "# 為了適應 PyTorch Geometric，將餘弦相似度矩陣轉換為稀疏表示\n",
    "threshold = 0.5  # 設置相似度的閾值，只有高於閾值的相似度才認為有邊\n",
    "adj_matrix = (cosine_sim_matrix > threshold).astype(float)  # 大於閾值的設為1，否則為0\n",
    "edge_index = torch.tensor(np.array(np.nonzero(adj_matrix)), dtype=torch.long)"
   ]
  },
  {
   "cell_type": "code",
   "execution_count": 30,
   "id": "02f295a7-4cca-46b5-b42f-f9fd31be7f90",
   "metadata": {},
   "outputs": [
    {
     "name": "stdout",
     "output_type": "stream",
     "text": [
      "tensor([[   0,    0,    0,  ..., 5647, 5648, 5649],\n",
      "        [   0,   82,  121,  ..., 5647, 5648, 5649]])\n"
     ]
    }
   ],
   "source": [
    "print(edge_index)"
   ]
  },
  {
   "cell_type": "code",
   "execution_count": 31,
   "id": "dc83f13b-746f-4887-b0e0-2ed4048117aa",
   "metadata": {},
   "outputs": [],
   "source": [
    "from torch_geometric.data import Data\n",
    "\n",
    "# 將 node_features 和 labels 轉換為張量\n",
    "node_features_tensor = torch.tensor(node_features.values, dtype=torch.float)\n",
    "labels_tensor = torch.tensor(labels, dtype=torch.float)\n",
    "\n",
    "# 創建 PyTorch Geometric 的 Data 物件\n",
    "data = Data(x=node_features_tensor, edge_index=edge_index, y=labels_tensor)"
   ]
  },
  {
   "cell_type": "code",
   "execution_count": 32,
   "id": "17b74939-a975-4cb0-ae47-16c809dd6ab9",
   "metadata": {},
   "outputs": [
    {
     "name": "stdout",
     "output_type": "stream",
     "text": [
      "Node features shape: torch.Size([5650, 364])\n",
      "Labels shape: torch.Size([5650, 364])\n",
      "Edge index shape: torch.Size([2, 308386])\n"
     ]
    }
   ],
   "source": [
    "print(\"Node features shape:\", node_features_tensor.shape)\n",
    "print(\"Labels shape:\", labels_tensor.shape)\n",
    "print(\"Edge index shape:\", edge_index.shape)"
   ]
  },
  {
   "cell_type": "code",
   "execution_count": 33,
   "id": "6b6412ab-156f-466e-81df-1aa4896dab0f",
   "metadata": {},
   "outputs": [
    {
     "name": "stdout",
     "output_type": "stream",
     "text": [
      "Combined data shape: (5650, 364, 2)\n"
     ]
    }
   ],
   "source": [
    "# 將特徵和標籤組合成一個三維陣列\n",
    "data = np.stack((node_features, labels), axis=-1)  # (5650, 364, 2)\n",
    "\n",
    "# 檢查數據形狀\n",
    "print(\"Combined data shape:\", data.shape)"
   ]
  },
  {
   "cell_type": "code",
   "execution_count": 34,
   "id": "53f727a1-3e05-4785-9d45-2f01379206e2",
   "metadata": {},
   "outputs": [],
   "source": [
    "node_features_transposed = node_features.T  #  (364, 5650)\n",
    "labels_transposed = labels.T  #  (364, 5650)"
   ]
  },
  {
   "cell_type": "code",
   "execution_count": 35,
   "id": "994c6cd6-87c1-4a8e-a729-822d70cb526b",
   "metadata": {},
   "outputs": [
    {
     "name": "stdout",
     "output_type": "stream",
     "text": [
      "Node features shape: (364, 5650)\n",
      "Labels shape: (364, 5650)\n"
     ]
    }
   ],
   "source": [
    "print(\"Node features shape:\", node_features_transposed.shape)\n",
    "print(\"Labels shape:\", labels_transposed.shape)"
   ]
  },
  {
   "cell_type": "code",
   "execution_count": 36,
   "id": "c6c8088d-d4ec-4ee1-a93c-ffe60f7654a3",
   "metadata": {},
   "outputs": [
    {
     "name": "stdout",
     "output_type": "stream",
     "text": [
      "Combined data shape: (364, 5650, 2)\n"
     ]
    }
   ],
   "source": [
    "data = np.stack((node_features_transposed, labels_transposed), axis=-1)  # (364, 5650, 2)\n",
    "print(\"Combined data shape:\", combined_data.shape)  #  (364, 5650, 2)\n",
    "# 5650個商品，365天，每天的特徵和標籤 (364, 5650, 2)"
   ]
  },
  {
   "cell_type": "code",
   "execution_count": 37,
   "id": "7993e181-128f-4f4a-90a9-cd3d079d6298",
   "metadata": {},
   "outputs": [],
   "source": [
    "# np.savez('gcn_data.npz',\n",
    "#          data=data)\n",
    "\n",
    "# np.save('gcn_data',\n",
    "#          data)"
   ]
  },
  {
   "cell_type": "code",
   "execution_count": 47,
   "id": "6ed5d919-2e3c-4d86-89eb-4ba4ea18ebac",
   "metadata": {},
   "outputs": [
    {
     "name": "stdout",
     "output_type": "stream",
     "text": [
      "Available arrays in the .npz file: ['data']\n"
     ]
    }
   ],
   "source": [
    "# 讀取 .npz 文件中的所有數據\n",
    "npzfile = np.load('gcn_data.npz')\n",
    "\n",
    "# 列出 .npz 文件中的所有數組名稱\n",
    "print(\"Available arrays in the .npz file:\", npzfile.files)\n",
    "\n",
    "# 假設數據存儲在名為 'data' 的數組中，從中讀取數據\n",
    "data = npzfile['data']\n",
    "\n",
    "# 將三維數據展平為二維數據\n",
    "flattened_data = data.reshape(data.shape[0], -1)\n",
    "\n",
    "# 保存為 CSV 文件\n",
    "np.savetxt('gcn_data.csv', flattened_data, delimiter=',')"
   ]
  }
 ],
 "metadata": {
  "kernelspec": {
   "display_name": "Python 3 (ipykernel)",
   "language": "python",
   "name": "python3"
  },
  "language_info": {
   "codemirror_mode": {
    "name": "ipython",
    "version": 3
   },
   "file_extension": ".py",
   "mimetype": "text/x-python",
   "name": "python",
   "nbconvert_exporter": "python",
   "pygments_lexer": "ipython3",
   "version": "3.10.14"
  }
 },
 "nbformat": 4,
 "nbformat_minor": 5
}
