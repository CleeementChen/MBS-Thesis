{
  "cells": [
    {
      "cell_type": "code",
      "execution_count": 1,
      "id": "MxxGbTg9j2ed",
      "metadata": {
        "colab": {
          "base_uri": "https://localhost:8080/"
        },
        "id": "MxxGbTg9j2ed",
        "outputId": "f189731c-a64d-4203-e40f-ecd3cf60f054"
      },
      "outputs": [
        {
          "output_type": "stream",
          "name": "stdout",
          "text": [
            "2.4.0+cu121\n",
            "12.1\n"
          ]
        }
      ],
      "source": [
        "!python -c \"import torch; print(torch.__version__)\"\n",
        "!python -c \"import torch; print(torch.version.cuda)\""
      ]
    },
    {
      "cell_type": "code",
      "execution_count": 2,
      "id": "szD5a-_wj3Rx",
      "metadata": {
        "colab": {
          "base_uri": "https://localhost:8080/"
        },
        "id": "szD5a-_wj3Rx",
        "outputId": "c2a9d429-0deb-4ff6-a38c-1a0fe740486e"
      },
      "outputs": [
        {
          "output_type": "stream",
          "name": "stdout",
          "text": [
            "Looking in links: https://data.pyg.org/whl/torch-2.4.0+cu121.html\n",
            "Collecting torch-scatter\n",
            "  Downloading https://data.pyg.org/whl/torch-2.4.0%2Bcu121/torch_scatter-2.1.2%2Bpt24cu121-cp310-cp310-linux_x86_64.whl (10.9 MB)\n",
            "     ━━━━━━━━━━━━━━━━━━━━━━━━━━━━━━━━━━━━━━━━ 10.9/10.9 MB 59.5 MB/s eta 0:00:00\n",
            "Installing collected packages: torch-scatter\n",
            "Successfully installed torch-scatter-2.1.2+pt24cu121\n",
            "Looking in links: https://data.pyg.org/whl/torch-2.4.0+cu121.html\n",
            "Collecting torch-sparse\n",
            "  Downloading https://data.pyg.org/whl/torch-2.4.0%2Bcu121/torch_sparse-0.6.18%2Bpt24cu121-cp310-cp310-linux_x86_64.whl (5.1 MB)\n",
            "     ━━━━━━━━━━━━━━━━━━━━━━━━━━━━━━━━━━━━━━━━ 5.1/5.1 MB 54.1 MB/s eta 0:00:00\n",
            "Requirement already satisfied: scipy in /usr/local/lib/python3.10/dist-packages (from torch-sparse) (1.13.1)\n",
            "Requirement already satisfied: numpy<2.3,>=1.22.4 in /usr/local/lib/python3.10/dist-packages (from scipy->torch-sparse) (1.26.4)\n",
            "Installing collected packages: torch-sparse\n",
            "Successfully installed torch-sparse-0.6.18+pt24cu121\n",
            "Looking in links: https://data.pyg.org/whl/torch-2.4.0+cu121.html\n",
            "Collecting torch-cluster\n",
            "  Downloading https://data.pyg.org/whl/torch-2.4.0%2Bcu121/torch_cluster-1.6.3%2Bpt24cu121-cp310-cp310-linux_x86_64.whl (3.4 MB)\n",
            "     ━━━━━━━━━━━━━━━━━━━━━━━━━━━━━━━━━━━━━━━━ 3.4/3.4 MB 33.8 MB/s eta 0:00:00\n",
            "Requirement already satisfied: scipy in /usr/local/lib/python3.10/dist-packages (from torch-cluster) (1.13.1)\n",
            "Requirement already satisfied: numpy<2.3,>=1.22.4 in /usr/local/lib/python3.10/dist-packages (from scipy->torch-cluster) (1.26.4)\n",
            "Installing collected packages: torch-cluster\n",
            "Successfully installed torch-cluster-1.6.3+pt24cu121\n",
            "Looking in links: https://data.pyg.org/whl/torch-2.4.0+cu121.html\n",
            "Collecting torch-spline-conv\n",
            "  Downloading https://data.pyg.org/whl/torch-2.4.0%2Bcu121/torch_spline_conv-1.2.2%2Bpt24cu121-cp310-cp310-linux_x86_64.whl (986 kB)\n",
            "     ━━━━━━━━━━━━━━━━━━━━━━━━━━━━━━━━━━━━━━━━ 986.2/986.2 kB 36.6 MB/s eta 0:00:00\n",
            "Installing collected packages: torch-spline-conv\n",
            "Successfully installed torch-spline-conv-1.2.2+pt24cu121\n"
          ]
        }
      ],
      "source": [
        "# version should match with torch and cuda\n",
        "%%bash\n",
        "pip install torch-scatter -f https://data.pyg.org/whl/torch-2.4.0+cu121.html\n",
        "pip install torch-sparse -f https://data.pyg.org/whl/torch-2.4.0+cu121.html\n",
        "pip install torch-cluster -f https://data.pyg.org/whl/torch-2.4.0+cu121.html\n",
        "pip install torch-spline-conv -f https://data.pyg.org/whl/torch-2.4.0+cu121.html"
      ]
    },
    {
      "cell_type": "code",
      "execution_count": 3,
      "id": "SEqNnZQQkHE0",
      "metadata": {
        "colab": {
          "base_uri": "https://localhost:8080/"
        },
        "id": "SEqNnZQQkHE0",
        "outputId": "a6d075c9-06d1-453e-dc02-1c36a70e221e"
      },
      "outputs": [
        {
          "output_type": "stream",
          "name": "stdout",
          "text": [
            "Collecting torch_geometric==2.2.0\n",
            "  Downloading torch_geometric-2.2.0.tar.gz (564 kB)\n",
            "\u001b[?25l     \u001b[90m━━━━━━━━━━━━━━━━━━━━━━━━━━━━━━━━━━━━━━━━\u001b[0m \u001b[32m0.0/565.0 kB\u001b[0m \u001b[31m?\u001b[0m eta \u001b[36m-:--:--\u001b[0m\r\u001b[2K     \u001b[90m━━━━━━━━━━━━━━━━━━━━━━━━━━━━━━━━━━━━━━━━\u001b[0m \u001b[32m565.0/565.0 kB\u001b[0m \u001b[31m30.9 MB/s\u001b[0m eta \u001b[36m0:00:00\u001b[0m\n",
            "\u001b[?25h  Preparing metadata (setup.py) ... \u001b[?25l\u001b[?25hdone\n",
            "Requirement already satisfied: tqdm in /usr/local/lib/python3.10/dist-packages (from torch_geometric==2.2.0) (4.66.5)\n",
            "Requirement already satisfied: numpy in /usr/local/lib/python3.10/dist-packages (from torch_geometric==2.2.0) (1.26.4)\n",
            "Requirement already satisfied: scipy in /usr/local/lib/python3.10/dist-packages (from torch_geometric==2.2.0) (1.13.1)\n",
            "Requirement already satisfied: jinja2 in /usr/local/lib/python3.10/dist-packages (from torch_geometric==2.2.0) (3.1.4)\n",
            "Requirement already satisfied: requests in /usr/local/lib/python3.10/dist-packages (from torch_geometric==2.2.0) (2.32.3)\n",
            "Requirement already satisfied: pyparsing in /usr/local/lib/python3.10/dist-packages (from torch_geometric==2.2.0) (3.1.2)\n",
            "Requirement already satisfied: scikit-learn in /usr/local/lib/python3.10/dist-packages (from torch_geometric==2.2.0) (1.3.2)\n",
            "Requirement already satisfied: psutil>=5.8.0 in /usr/local/lib/python3.10/dist-packages (from torch_geometric==2.2.0) (5.9.5)\n",
            "Requirement already satisfied: MarkupSafe>=2.0 in /usr/local/lib/python3.10/dist-packages (from jinja2->torch_geometric==2.2.0) (2.1.5)\n",
            "Requirement already satisfied: charset-normalizer<4,>=2 in /usr/local/lib/python3.10/dist-packages (from requests->torch_geometric==2.2.0) (3.3.2)\n",
            "Requirement already satisfied: idna<4,>=2.5 in /usr/local/lib/python3.10/dist-packages (from requests->torch_geometric==2.2.0) (3.7)\n",
            "Requirement already satisfied: urllib3<3,>=1.21.1 in /usr/local/lib/python3.10/dist-packages (from requests->torch_geometric==2.2.0) (2.0.7)\n",
            "Requirement already satisfied: certifi>=2017.4.17 in /usr/local/lib/python3.10/dist-packages (from requests->torch_geometric==2.2.0) (2024.7.4)\n",
            "Requirement already satisfied: joblib>=1.1.1 in /usr/local/lib/python3.10/dist-packages (from scikit-learn->torch_geometric==2.2.0) (1.4.2)\n",
            "Requirement already satisfied: threadpoolctl>=2.0.0 in /usr/local/lib/python3.10/dist-packages (from scikit-learn->torch_geometric==2.2.0) (3.5.0)\n",
            "Building wheels for collected packages: torch_geometric\n",
            "  Building wheel for torch_geometric (setup.py) ... \u001b[?25l\u001b[?25hdone\n",
            "  Created wheel for torch_geometric: filename=torch_geometric-2.2.0-py3-none-any.whl size=773275 sha256=dbf7a1321e0e8640f57c232b902e68699712f5c94147de58782cbb1797fb3757\n",
            "  Stored in directory: /root/.cache/pip/wheels/c8/e4/83/5e964867e23f8a61cb8c5d5b9477617b710e96e6ebf1844562\n",
            "Successfully built torch_geometric\n",
            "Installing collected packages: torch_geometric\n",
            "Successfully installed torch_geometric-2.2.0\n",
            "Collecting torch_geometric_temporal\n",
            "  Downloading torch_geometric_temporal-0.54.0.tar.gz (48 kB)\n",
            "\u001b[2K     \u001b[90m━━━━━━━━━━━━━━━━━━━━━━━━━━━━━━━━━━━━━━━━\u001b[0m \u001b[32m48.1/48.1 kB\u001b[0m \u001b[31m4.8 MB/s\u001b[0m eta \u001b[36m0:00:00\u001b[0m\n",
            "\u001b[?25h  Preparing metadata (setup.py) ... \u001b[?25l\u001b[?25hdone\n",
            "Requirement already satisfied: decorator==4.4.2 in /usr/local/lib/python3.10/dist-packages (from torch_geometric_temporal) (4.4.2)\n",
            "Requirement already satisfied: torch in /usr/local/lib/python3.10/dist-packages (from torch_geometric_temporal) (2.4.0+cu121)\n",
            "Requirement already satisfied: cython in /usr/local/lib/python3.10/dist-packages (from torch_geometric_temporal) (3.0.11)\n",
            "Collecting pandas<=1.3.5 (from torch_geometric_temporal)\n",
            "  Downloading pandas-1.3.5-cp310-cp310-manylinux_2_17_x86_64.manylinux2014_x86_64.whl.metadata (12 kB)\n",
            "Requirement already satisfied: torch_sparse in /usr/local/lib/python3.10/dist-packages (from torch_geometric_temporal) (0.6.18+pt24cu121)\n",
            "Requirement already satisfied: torch_scatter in /usr/local/lib/python3.10/dist-packages (from torch_geometric_temporal) (2.1.2+pt24cu121)\n",
            "Requirement already satisfied: torch_geometric in /usr/local/lib/python3.10/dist-packages (from torch_geometric_temporal) (2.2.0)\n",
            "Requirement already satisfied: numpy in /usr/local/lib/python3.10/dist-packages (from torch_geometric_temporal) (1.26.4)\n",
            "Requirement already satisfied: six in /usr/local/lib/python3.10/dist-packages (from torch_geometric_temporal) (1.16.0)\n",
            "Requirement already satisfied: networkx in /usr/local/lib/python3.10/dist-packages (from torch_geometric_temporal) (3.3)\n",
            "Requirement already satisfied: python-dateutil>=2.7.3 in /usr/local/lib/python3.10/dist-packages (from pandas<=1.3.5->torch_geometric_temporal) (2.8.2)\n",
            "Requirement already satisfied: pytz>=2017.3 in /usr/local/lib/python3.10/dist-packages (from pandas<=1.3.5->torch_geometric_temporal) (2024.1)\n",
            "Requirement already satisfied: filelock in /usr/local/lib/python3.10/dist-packages (from torch->torch_geometric_temporal) (3.15.4)\n",
            "Requirement already satisfied: typing-extensions>=4.8.0 in /usr/local/lib/python3.10/dist-packages (from torch->torch_geometric_temporal) (4.12.2)\n",
            "Requirement already satisfied: sympy in /usr/local/lib/python3.10/dist-packages (from torch->torch_geometric_temporal) (1.13.2)\n",
            "Requirement already satisfied: jinja2 in /usr/local/lib/python3.10/dist-packages (from torch->torch_geometric_temporal) (3.1.4)\n",
            "Requirement already satisfied: fsspec in /usr/local/lib/python3.10/dist-packages (from torch->torch_geometric_temporal) (2024.6.1)\n",
            "Requirement already satisfied: tqdm in /usr/local/lib/python3.10/dist-packages (from torch_geometric->torch_geometric_temporal) (4.66.5)\n",
            "Requirement already satisfied: scipy in /usr/local/lib/python3.10/dist-packages (from torch_geometric->torch_geometric_temporal) (1.13.1)\n",
            "Requirement already satisfied: requests in /usr/local/lib/python3.10/dist-packages (from torch_geometric->torch_geometric_temporal) (2.32.3)\n",
            "Requirement already satisfied: pyparsing in /usr/local/lib/python3.10/dist-packages (from torch_geometric->torch_geometric_temporal) (3.1.2)\n",
            "Requirement already satisfied: scikit-learn in /usr/local/lib/python3.10/dist-packages (from torch_geometric->torch_geometric_temporal) (1.3.2)\n",
            "Requirement already satisfied: psutil>=5.8.0 in /usr/local/lib/python3.10/dist-packages (from torch_geometric->torch_geometric_temporal) (5.9.5)\n",
            "Requirement already satisfied: MarkupSafe>=2.0 in /usr/local/lib/python3.10/dist-packages (from jinja2->torch->torch_geometric_temporal) (2.1.5)\n",
            "Requirement already satisfied: charset-normalizer<4,>=2 in /usr/local/lib/python3.10/dist-packages (from requests->torch_geometric->torch_geometric_temporal) (3.3.2)\n",
            "Requirement already satisfied: idna<4,>=2.5 in /usr/local/lib/python3.10/dist-packages (from requests->torch_geometric->torch_geometric_temporal) (3.7)\n",
            "Requirement already satisfied: urllib3<3,>=1.21.1 in /usr/local/lib/python3.10/dist-packages (from requests->torch_geometric->torch_geometric_temporal) (2.0.7)\n",
            "Requirement already satisfied: certifi>=2017.4.17 in /usr/local/lib/python3.10/dist-packages (from requests->torch_geometric->torch_geometric_temporal) (2024.7.4)\n",
            "Requirement already satisfied: joblib>=1.1.1 in /usr/local/lib/python3.10/dist-packages (from scikit-learn->torch_geometric->torch_geometric_temporal) (1.4.2)\n",
            "Requirement already satisfied: threadpoolctl>=2.0.0 in /usr/local/lib/python3.10/dist-packages (from scikit-learn->torch_geometric->torch_geometric_temporal) (3.5.0)\n",
            "Requirement already satisfied: mpmath<1.4,>=1.1.0 in /usr/local/lib/python3.10/dist-packages (from sympy->torch->torch_geometric_temporal) (1.3.0)\n",
            "Downloading pandas-1.3.5-cp310-cp310-manylinux_2_17_x86_64.manylinux2014_x86_64.whl (11.5 MB)\n",
            "\u001b[2K   \u001b[90m━━━━━━━━━━━━━━━━━━━━━━━━━━━━━━━━━━━━━━━━\u001b[0m \u001b[32m11.5/11.5 MB\u001b[0m \u001b[31m116.3 MB/s\u001b[0m eta \u001b[36m0:00:00\u001b[0m\n",
            "\u001b[?25hBuilding wheels for collected packages: torch_geometric_temporal\n",
            "  Building wheel for torch_geometric_temporal (setup.py) ... \u001b[?25l\u001b[?25hdone\n",
            "  Created wheel for torch_geometric_temporal: filename=torch_geometric_temporal-0.54.0-py3-none-any.whl size=86712 sha256=cdcbcebfd975341dbb76bb36339241baee2aff57fd1f5cbd63f2f235afad0fb4\n",
            "  Stored in directory: /root/.cache/pip/wheels/9e/9b/b6/e15256e053f0cb49b1084a67a709db909d418386a231f0722c\n",
            "Successfully built torch_geometric_temporal\n",
            "Installing collected packages: pandas, torch_geometric_temporal\n",
            "  Attempting uninstall: pandas\n",
            "    Found existing installation: pandas 2.1.4\n",
            "    Uninstalling pandas-2.1.4:\n",
            "      Successfully uninstalled pandas-2.1.4\n",
            "\u001b[31mERROR: pip's dependency resolver does not currently take into account all the packages that are installed. This behaviour is the source of the following dependency conflicts.\n",
            "arviz 0.18.0 requires pandas>=1.5.0, but you have pandas 1.3.5 which is incompatible.\n",
            "bigframes 1.15.0 requires pandas>=1.5.0, but you have pandas 1.3.5 which is incompatible.\n",
            "cudf-cu12 24.4.1 requires pandas<2.2.2dev0,>=2.0, but you have pandas 1.3.5 which is incompatible.\n",
            "geopandas 0.14.4 requires pandas>=1.4.0, but you have pandas 1.3.5 which is incompatible.\n",
            "google-colab 1.0.0 requires pandas==2.1.4, but you have pandas 1.3.5 which is incompatible.\n",
            "plotnine 0.12.4 requires pandas>=1.5.0, but you have pandas 1.3.5 which is incompatible.\n",
            "statsmodels 0.14.2 requires pandas!=2.1.0,>=1.4, but you have pandas 1.3.5 which is incompatible.\n",
            "xarray 2024.6.0 requires pandas>=2.0, but you have pandas 1.3.5 which is incompatible.\u001b[0m\u001b[31m\n",
            "\u001b[0mSuccessfully installed pandas-1.3.5 torch_geometric_temporal-0.54.0\n"
          ]
        }
      ],
      "source": [
        "!pip install torch_geometric==2.2.0\n",
        "!pip install torch_geometric_temporal"
      ]
    },
    {
      "cell_type": "code",
      "execution_count": 4,
      "id": "1aqqi8SXkJ_c",
      "metadata": {
        "colab": {
          "base_uri": "https://localhost:8080/"
        },
        "id": "1aqqi8SXkJ_c",
        "outputId": "141e48be-b7db-4cb1-d529-e940b5ddf4f0"
      },
      "outputs": [
        {
          "output_type": "stream",
          "name": "stdout",
          "text": [
            "Mounted at /content/drive\n"
          ]
        }
      ],
      "source": [
        "from google.colab import drive\n",
        "drive.mount('/content/drive')"
      ]
    },
    {
      "cell_type": "code",
      "execution_count": 11,
      "id": "64db5f01-1c67-44a0-bce6-75fbe4da59a5",
      "metadata": {
        "id": "64db5f01-1c67-44a0-bce6-75fbe4da59a5"
      },
      "outputs": [],
      "source": [
        "import numpy as np\n",
        "import matplotlib.pyplot as plt\n",
        "import seaborn as sns\n",
        "import networkx as nx\n",
        "import os\n",
        "import copy\n",
        "\n",
        "from sklearn.metrics.pairwise import cosine_similarity\n",
        "\n",
        "import torch\n",
        "import torch.nn as nn\n",
        "import torch.optim as optim\n",
        "\n",
        "from torch_geometric_temporal.signal import temporal_signal_split\n",
        "from torch_geometric_temporal.signal import StaticGraphTemporalSignal\n",
        "from torch_geometric_temporal.nn.recurrent import A3TGCN2\n",
        "from torch_geometric_temporal.nn.attention import ASTGCN   # For information about the architecture check the source code\n",
        "\n",
        "# GPU support\n",
        "DEVICE = torch.device('cuda' if torch.cuda.is_available() else 'cpu')\n",
        "shuffle=True\n",
        "batch_size = 8"
      ]
    },
    {
      "cell_type": "code",
      "execution_count": 6,
      "id": "08c5cae7-a799-48d6-85a5-18322903d3dc",
      "metadata": {
        "colab": {
          "base_uri": "https://localhost:8080/"
        },
        "id": "08c5cae7-a799-48d6-85a5-18322903d3dc",
        "outputId": "acb15125-738d-4b6d-8848-b1f241ea1350"
      },
      "outputs": [
        {
          "output_type": "stream",
          "name": "stderr",
          "text": [
            "<ipython-input-6-27d31b0910a9>:2: FutureWarning: You are using `torch.load` with `weights_only=False` (the current default value), which uses the default pickle module implicitly. It is possible to construct malicious pickle data which will execute arbitrary code during unpickling (See https://github.com/pytorch/pytorch/blob/main/SECURITY.md#untrusted-models for more details). In a future release, the default value for `weights_only` will be flipped to `True`. This limits the functions that could be executed during unpickling. Arbitrary objects will no longer be allowed to be loaded via this mode unless they are explicitly allowlisted by the user via `torch.serialization.add_safe_globals`. We recommend you start setting `weights_only=True` for any use case where you don't have full control of the loaded file. Please open an issue on GitHub for any issues related to this experimental feature.\n",
            "  data = torch.load('/content/drive/MyDrive/Dissertation/DissertationData/static_graph_temporal_signal.pt')\n"
          ]
        },
        {
          "output_type": "stream",
          "name": "stdout",
          "text": [
            "Dataset type:  <class 'torch_geometric_temporal.signal.static_graph_temporal_signal.StaticGraphTemporalSignal'>\n",
            "Number of samples / sequences:  1940\n",
            "First sample: Data(x=[5650, 1, 1], edge_index=[2, 47624], edge_attr=[47624], y=[5650, 1])\n"
          ]
        }
      ],
      "source": [
        "# 從文件加載數據集的組件\n",
        "data = torch.load('/content/drive/MyDrive/Dissertation/DissertationData/static_graph_temporal_signal.pt')\n",
        "\n",
        "edge_index = data['edge_index']\n",
        "edge_attr = data['edge_attr']\n",
        "features_list = data['features']\n",
        "targets_list = data['targets']\n",
        "\n",
        "# 建 StaticGraphTemporalSignal 數據集\n",
        "dataset = StaticGraphTemporalSignal(\n",
        "    edge_index=edge_index,\n",
        "    edge_weight=edge_attr,\n",
        "    features=features_list,\n",
        "    targets=targets_list\n",
        ")\n",
        "\n",
        "# 打印數據集類型\n",
        "print(\"Dataset type: \", type(dataset))\n",
        "\n",
        "# 計算樣本數量（序列數量）\n",
        "num_samples = sum(1 for _ in dataset)\n",
        "print(\"Number of samples / sequences: \", num_samples)\n",
        "\n",
        "# 顯示第一個樣本的內容\n",
        "first_sample = next(iter(dataset))\n",
        "print(\"First sample:\", first_sample)"
      ]
    },
    {
      "cell_type": "markdown",
      "id": "00173e83-58fc-4b57-903d-b8b48c748d1c",
      "metadata": {
        "id": "00173e83-58fc-4b57-903d-b8b48c748d1c"
      },
      "source": [
        "x=[5650, 1, 1]:\n",
        "\n",
        "x 是特徵張量，形狀為 [num_nodes, num_features, timesteps]。這裡 num_nodes 是 5650，num_features 是 1，timesteps 是 1。這表示每個節點有一個特徵，且時間步長為 1（這與你的設置不完全一致，可能需要檢查設定）。\n",
        "edge_index=[2, 47624]:\n",
        "\n",
        "edge_index 是邊的索引，形狀為 [2, num_edges]，這裡 num_edges 是 47624，表示圖中的邊。\n",
        "edge_attr=[47624]:\n",
        "\n",
        "edge_attr 是邊的權重或相似度，形狀為 [num_edges]，這裡 num_edges 是 47624，與 edge_index 的邊數量一致。\n",
        "y=[5650, 1]:\n",
        "\n",
        "y 是目標張量，形狀為 [num_nodes, timesteps]，這裡 num_nodes 是 5650，timesteps 是 1。這表示每個節點在這個時間步長上的標籤值。"
      ]
    },
    {
      "cell_type": "code",
      "execution_count": 7,
      "id": "107f149f-33f2-41f7-bb59-9045685d16f8",
      "metadata": {
        "colab": {
          "base_uri": "https://localhost:8080/"
        },
        "id": "107f149f-33f2-41f7-bb59-9045685d16f8",
        "outputId": "99b7757c-172c-46e1-a9e9-53149bc9a251"
      },
      "outputs": [
        {
          "output_type": "stream",
          "name": "stdout",
          "text": [
            "Number of train buckets:  1552\n",
            "Number of test buckets:  388\n"
          ]
        }
      ],
      "source": [
        "train_dataset, test_dataset = temporal_signal_split(dataset, train_ratio=0.8)\n",
        "\n",
        "train_count = sum(1 for _ in train_dataset)\n",
        "test_count = sum(1 for _ in test_dataset)\n",
        "\n",
        "print(\"Number of train buckets: \", train_count)\n",
        "print(\"Number of test buckets: \", test_count)"
      ]
    },
    {
      "cell_type": "markdown",
      "id": "036fd2a8-c190-4909-a3d4-4a4c94edd0d4",
      "metadata": {
        "id": "036fd2a8-c190-4909-a3d4-4a4c94edd0d4"
      },
      "source": [
        "# ***Creating DataLoaders***"
      ]
    },
    {
      "cell_type": "code",
      "execution_count": 8,
      "id": "346f7247-32be-460c-8af2-65c14cf6ed28",
      "metadata": {
        "id": "346f7247-32be-460c-8af2-65c14cf6ed28"
      },
      "outputs": [],
      "source": [
        "# 準備訓練集和測試集的數據\n",
        "train_input = np.array(train_dataset.features)  # (num_samples, num_nodes, num_features, num_timesteps)\n",
        "train_target = np.array(train_dataset.targets)  # (num_samples, num_nodes, num_timesteps)\n",
        "test_input = np.array(test_dataset.features)    # (num_samples, num_nodes, num_features, num_timesteps)\n",
        "test_target = np.array(test_dataset.targets)    # (num_samples, num_nodes, num_timesteps)\n",
        "\n",
        "# 將數據轉換為Tensor\n",
        "train_x_tensor = torch.from_numpy(train_input).type(torch.FloatTensor).to(DEVICE)\n",
        "train_target_tensor = torch.from_numpy(train_target).type(torch.FloatTensor).to(DEVICE)\n",
        "test_x_tensor = torch.from_numpy(test_input).type(torch.FloatTensor).to(DEVICE)\n",
        "test_target_tensor = torch.from_numpy(test_target).type(torch.FloatTensor).to(DEVICE)\n",
        "\n",
        "# 將訓練數據打包為TensorDataset\n",
        "train_dataset_new = torch.utils.data.TensorDataset(train_x_tensor, train_target_tensor)"
      ]
    },
    {
      "cell_type": "code",
      "execution_count": 9,
      "id": "46eec42d-d2ac-4752-9a41-a16f5483c60b",
      "metadata": {
        "colab": {
          "base_uri": "https://localhost:8080/"
        },
        "id": "46eec42d-d2ac-4752-9a41-a16f5483c60b",
        "outputId": "caaba1e1-29b5-4200-95ed-fd0fd50ebaf9"
      },
      "outputs": [
        {
          "output_type": "stream",
          "name": "stdout",
          "text": [
            "Training Set: 1242\n",
            "Validation Set: 310\n",
            "Testing Set: 388\n"
          ]
        }
      ],
      "source": [
        "validation_split = 0.2  # 設定驗證集比例\n",
        "\n",
        "# 計算訓練集和驗證集的大小\n",
        "val_size = int(len(train_dataset_new) * validation_split)\n",
        "train_size = len(train_dataset_new) - val_size\n",
        "\n",
        "# 隨機劃分訓練集和驗證集\n",
        "train_dataset_final, val_dataset = torch.utils.data.random_split(train_dataset_new, [train_size, val_size])\n",
        "\n",
        "# 創建 DataLoader\n",
        "train_loader = torch.utils.data.DataLoader(train_dataset_final, batch_size=batch_size, shuffle=shuffle, drop_last=True)\n",
        "val_loader = torch.utils.data.DataLoader(val_dataset, batch_size=batch_size, shuffle=shuffle, drop_last=True)\n",
        "\n",
        "# 同樣為測試集創建 DataLoader\n",
        "test_dataset_new = torch.utils.data.TensorDataset(test_x_tensor, test_target_tensor)\n",
        "test_loader = torch.utils.data.DataLoader(test_dataset_new, batch_size=batch_size, shuffle=shuffle, drop_last=True)\n",
        "\n",
        "# 打印劃分後的數據集大小\n",
        "print(f\"Training Set: {len(train_loader.dataset)}\")\n",
        "print(f\"Validation Set: {len(val_loader.dataset)}\")\n",
        "print(f\"Testing Set: {len(test_loader.dataset)}\")"
      ]
    },
    {
      "cell_type": "markdown",
      "id": "7d64e358-fa1e-4b18-9976-5f4aff143b49",
      "metadata": {
        "id": "7d64e358-fa1e-4b18-9976-5f4aff143b49"
      },
      "source": [
        "# ***Model***"
      ]
    },
    {
      "cell_type": "code",
      "execution_count": 10,
      "id": "8933399d-9807-4532-a976-99a2176ddaf6",
      "metadata": {
        "id": "8933399d-9807-4532-a976-99a2176ddaf6"
      },
      "outputs": [],
      "source": [
        "nb_block = 2\n",
        "in_channels = 1\n",
        "K = 3\n",
        "nb_chev_filter = 64\n",
        "nb_time_filter = 64\n",
        "time_strides = 1  # 我的時間步數\n",
        "num_for_predict = 1  # 我的時間步數\n",
        "len_input = 1  # 我的時間步數\n",
        "num_of_vertices = 5650  # 節點數\n",
        "\n",
        "# Initialize ASTGCN model\n",
        "model = ASTGCN(nb_block, in_channels, K, nb_chev_filter, nb_time_filter, time_strides, num_for_predict, len_input, num_of_vertices).to(DEVICE)\n",
        "\n",
        "#print(model)  # Print the model architecture"
      ]
    },
    {
      "cell_type": "code",
      "source": [
        "# 自訂 RMSSE 損失函數\n",
        "class RMSSELoss(nn.Module):\n",
        "    def __init__(self):\n",
        "        super(RMSSELoss, self).__init__()\n",
        "\n",
        "    def forward(self, y_pred, y_true, y_train):\n",
        "        # y_pred: Predicted values\n",
        "        # y_true: Actual values\n",
        "        # y_train: Historical training data to calculate scale\n",
        "\n",
        "        # Calculate the numerator (mean squared error)\n",
        "        numerator = torch.mean((y_pred - y_true) ** 2)\n",
        "\n",
        "        # Calculate the denominator (mean squared scale)\n",
        "        scale = torch.mean((y_train[1:] - y_train[:-1]) ** 2)\n",
        "\n",
        "        # Compute RMSSE\n",
        "        rmsse = torch.sqrt(numerator / scale)\n",
        "\n",
        "        return rmsse\n",
        "# model_path = \"/content/drive/MyDrive/Dissertation/DissertationData/BestModel0826/bm-gcn-flow0826.params\"  # 儲存最佳模型的路徑\n"
      ],
      "metadata": {
        "id": "hncwbmauvDeS"
      },
      "id": "hncwbmauvDeS",
      "execution_count": 17,
      "outputs": []
    },
    {
      "cell_type": "code",
      "execution_count": 19,
      "id": "6e75d034-0ee6-4838-a406-1502b9cfee11",
      "metadata": {
        "id": "6e75d034-0ee6-4838-a406-1502b9cfee11"
      },
      "outputs": [],
      "source": [
        "# 定義驗證損失計算函數\n",
        "def compute_val_loss_mstgcn(model, val_loader, criterion, masked_flag, missing_value, epoch, edge_index):\n",
        "    model.eval()\n",
        "    val_loss = 0\n",
        "    with torch.no_grad():\n",
        "        for batch_data in val_loader:\n",
        "            encoder_inputs, labels = batch_data\n",
        "            encoder_inputs = encoder_inputs.to(DEVICE)\n",
        "            labels = labels.to(DEVICE)\n",
        "            edge_index = edge_index.to(DEVICE)\n",
        "\n",
        "            y_hat = model(encoder_inputs, edge_index)\n",
        "\n",
        "            if masked_flag:\n",
        "                mask = (labels != missing_value).float()\n",
        "                loss = (criterion(y_hat, labels, encoder_inputs) * mask).mean()\n",
        "            else:\n",
        "                loss = criterion(y_hat, labels, encoder_inputs)\n",
        "\n",
        "            val_loss += loss.item()\n",
        "\n",
        "    val_loss /= len(val_loader)\n",
        "    return val_loss"
      ]
    },
    {
      "cell_type": "code",
      "execution_count": 23,
      "id": "d435ee6e-86c8-4758-b54a-8f5a34569078",
      "metadata": {
        "id": "d435ee6e-86c8-4758-b54a-8f5a34569078"
      },
      "outputs": [],
      "source": [
        "# 訓練函數\n",
        "def train_and_evaluate(model, train_loader, val_loader, criterion, optimizer, edge_index, epochs=20, early_stop=5):\n",
        "    min_vali_loss = float('inf')\n",
        "    wait = 0\n",
        "    best_epoch = 0\n",
        "    best_state_dict = None\n",
        "    train_losses = []\n",
        "    val_losses = []\n",
        "\n",
        "    for epoch in range(epochs):\n",
        "        print(f\"Starting training for epoch {epoch + 1}...\")\n",
        "        model.train()\n",
        "        step = 0\n",
        "        loss_list = []\n",
        "\n",
        "        for batch_data in train_loader:\n",
        "            encoder_inputs, labels = batch_data\n",
        "            encoder_inputs = encoder_inputs.to(DEVICE)\n",
        "            labels = labels.to(DEVICE)\n",
        "            edge_index = edge_index.to(DEVICE)\n",
        "            optimizer.zero_grad()\n",
        "\n",
        "            # Forward pass\n",
        "            y_hat = model(encoder_inputs, edge_index)\n",
        "\n",
        "            # Compute loss using RMSSELoss\n",
        "            loss = criterion(y_hat, labels, encoder_inputs)\n",
        "            loss.backward()\n",
        "            optimizer.step()\n",
        "\n",
        "            step += 1\n",
        "            loss_list.append(loss.item())  # 直接收集 RMSSE loss\n",
        "\n",
        "            if step % 30 == 0:\n",
        "                print(f\"Epoch {epoch + 1}, Step {step}, Performing validation...\")\n",
        "                vali_loss = compute_val_loss_mstgcn(model, val_loader, criterion, masked_flag, missing_value, epoch, edge_index)\n",
        "                print(f\"Epoch {epoch + 1}, Step {step}, Validation Loss (RMSSE): {vali_loss:.4f}\")\n",
        "\n",
        "                if vali_loss < min_vali_loss:\n",
        "                    wait = 0\n",
        "                    min_vali_loss = vali_loss\n",
        "                    best_epoch = epoch\n",
        "                    best_state_dict = copy.deepcopy(model.state_dict())\n",
        "                    print(f\"Best epoch so far is {best_epoch + 1}, Validation Loss: {min_vali_loss:.4f}. Model saved.\")\n",
        "                else:\n",
        "                    wait += 1\n",
        "                    if wait >= early_stop:\n",
        "                        print(f\"Early stopping at epoch {epoch + 1}.\")\n",
        "                        model.load_state_dict(best_state_dict)\n",
        "                        break\n",
        "\n",
        "                model.train()\n",
        "\n",
        "        # 計算該 epoch 的平均 RMSSE\n",
        "        avg_train_rmsse = np.mean(loss_list)  # 這裡的 loss_list 已經是 RMSSE loss\n",
        "        train_losses.append(avg_train_rmsse)\n",
        "        val_losses.append(vali_loss)\n",
        "\n",
        "        print(f\"Epoch {epoch + 1} Training RMSSE: {avg_train_rmsse:.4f}\")\n",
        "        print(f\"Epoch {epoch + 1} Validation Loss (RMSSE): {vali_loss:.4f}\")\n",
        "\n",
        "    # 保存最佳模型\n",
        "    if best_state_dict is not None:\n",
        "        model_path = \"/content/drive/MyDrive/Dissertation/DissertationData/BestModel0826/bm-gcn-flow0826.params\"\n",
        "        torch.save(best_state_dict, model_path)\n",
        "        print(f\"Model saved to {model_path}\")\n",
        "\n",
        "    return train_losses, val_losses, min_vali_loss"
      ]
    },
    {
      "cell_type": "code",
      "execution_count": 20,
      "id": "945d6f1d-b8ef-4c68-8037-e2188053e41e",
      "metadata": {
        "id": "945d6f1d-b8ef-4c68-8037-e2188053e41e"
      },
      "outputs": [],
      "source": [
        "# 初始化模型和優化器\n",
        "learning_rate = 0.001\n",
        "model = ASTGCN(nb_block, in_channels, K, nb_chev_filter, nb_time_filter, time_strides, num_for_predict, len_input, num_of_vertices).to(DEVICE)\n",
        "criterion = RMSSELoss().to(DEVICE)  # 使用自定義的 RMSSE 作為損失函數\n",
        "optimizer = optim.Adam(model.parameters(), lr=learning_rate)"
      ]
    },
    {
      "cell_type": "code",
      "execution_count": 24,
      "id": "a3RgkemhTN2s",
      "metadata": {
        "colab": {
          "base_uri": "https://localhost:8080/"
        },
        "id": "a3RgkemhTN2s",
        "outputId": "317b6a29-f8f6-42af-b4a2-87850ad2aebb"
      },
      "outputs": [
        {
          "output_type": "stream",
          "name": "stdout",
          "text": [
            "Starting training for epoch 1...\n",
            "Epoch 1, Step 30, Performing validation...\n",
            "Epoch 1, Step 30, Validation Loss (RMSSE): 0.1424\n",
            "Best epoch so far is 1, Validation Loss: 0.1424. Model saved.\n",
            "Epoch 1, Step 60, Performing validation...\n",
            "Epoch 1, Step 60, Validation Loss (RMSSE): 0.1421\n",
            "Best epoch so far is 1, Validation Loss: 0.1421. Model saved.\n",
            "Epoch 1, Step 90, Performing validation...\n",
            "Epoch 1, Step 90, Validation Loss (RMSSE): 0.1407\n",
            "Best epoch so far is 1, Validation Loss: 0.1407. Model saved.\n",
            "Epoch 1, Step 120, Performing validation...\n",
            "Epoch 1, Step 120, Validation Loss (RMSSE): 0.1401\n",
            "Best epoch so far is 1, Validation Loss: 0.1401. Model saved.\n",
            "Epoch 1, Step 150, Performing validation...\n",
            "Epoch 1, Step 150, Validation Loss (RMSSE): 0.1413\n",
            "Epoch 1 Training RMSSE: 0.6830\n",
            "Epoch 1 Validation Loss (RMSSE): 0.1413\n",
            "Starting training for epoch 2...\n",
            "Epoch 2, Step 30, Performing validation...\n",
            "Epoch 2, Step 30, Validation Loss (RMSSE): 0.1416\n",
            "Epoch 2, Step 60, Performing validation...\n",
            "Epoch 2, Step 60, Validation Loss (RMSSE): 0.1408\n",
            "Epoch 2, Step 90, Performing validation...\n",
            "Epoch 2, Step 90, Validation Loss (RMSSE): 0.1420\n",
            "Epoch 2, Step 120, Performing validation...\n",
            "Epoch 2, Step 120, Validation Loss (RMSSE): 0.1401\n",
            "Best epoch so far is 2, Validation Loss: 0.1401. Model saved.\n",
            "Epoch 2, Step 150, Performing validation...\n",
            "Epoch 2, Step 150, Validation Loss (RMSSE): 0.1409\n",
            "Epoch 2 Training RMSSE: 0.6727\n",
            "Epoch 2 Validation Loss (RMSSE): 0.1409\n",
            "Starting training for epoch 3...\n",
            "Epoch 3, Step 30, Performing validation...\n",
            "Epoch 3, Step 30, Validation Loss (RMSSE): 0.1440\n",
            "Epoch 3, Step 60, Performing validation...\n",
            "Epoch 3, Step 60, Validation Loss (RMSSE): 0.1413\n",
            "Epoch 3, Step 90, Performing validation...\n",
            "Epoch 3, Step 90, Validation Loss (RMSSE): 0.1419\n",
            "Epoch 3, Step 120, Performing validation...\n",
            "Epoch 3, Step 120, Validation Loss (RMSSE): 0.1429\n",
            "Early stopping at epoch 3.\n",
            "Epoch 3 Training RMSSE: 0.6653\n",
            "Epoch 3 Validation Loss (RMSSE): 0.1429\n",
            "Starting training for epoch 4...\n",
            "Epoch 4, Step 30, Performing validation...\n",
            "Epoch 4, Step 30, Validation Loss (RMSSE): 0.1420\n",
            "Early stopping at epoch 4.\n",
            "Epoch 4 Training RMSSE: 0.6592\n",
            "Epoch 4 Validation Loss (RMSSE): 0.1420\n",
            "Starting training for epoch 5...\n",
            "Epoch 5, Step 30, Performing validation...\n",
            "Epoch 5, Step 30, Validation Loss (RMSSE): 0.1421\n",
            "Early stopping at epoch 5.\n",
            "Epoch 5 Training RMSSE: 0.6526\n",
            "Epoch 5 Validation Loss (RMSSE): 0.1421\n",
            "Starting training for epoch 6...\n",
            "Epoch 6, Step 30, Performing validation...\n",
            "Epoch 6, Step 30, Validation Loss (RMSSE): 0.1423\n",
            "Early stopping at epoch 6.\n",
            "Epoch 6 Training RMSSE: 0.6541\n",
            "Epoch 6 Validation Loss (RMSSE): 0.1423\n",
            "Starting training for epoch 7...\n",
            "Epoch 7, Step 30, Performing validation...\n",
            "Epoch 7, Step 30, Validation Loss (RMSSE): 0.1413\n",
            "Early stopping at epoch 7.\n",
            "Epoch 7 Training RMSSE: 0.6668\n",
            "Epoch 7 Validation Loss (RMSSE): 0.1413\n",
            "Starting training for epoch 8...\n",
            "Epoch 8, Step 30, Performing validation...\n",
            "Epoch 8, Step 30, Validation Loss (RMSSE): 0.1426\n",
            "Early stopping at epoch 8.\n",
            "Epoch 8 Training RMSSE: 0.6680\n",
            "Epoch 8 Validation Loss (RMSSE): 0.1426\n",
            "Starting training for epoch 9...\n",
            "Epoch 9, Step 30, Performing validation...\n",
            "Epoch 9, Step 30, Validation Loss (RMSSE): 0.1420\n",
            "Early stopping at epoch 9.\n",
            "Epoch 9 Training RMSSE: 0.6461\n",
            "Epoch 9 Validation Loss (RMSSE): 0.1420\n",
            "Starting training for epoch 10...\n",
            "Epoch 10, Step 30, Performing validation...\n",
            "Epoch 10, Step 30, Validation Loss (RMSSE): 0.1448\n",
            "Early stopping at epoch 10.\n",
            "Epoch 10 Training RMSSE: 0.6727\n",
            "Epoch 10 Validation Loss (RMSSE): 0.1448\n",
            "Starting training for epoch 11...\n",
            "Epoch 11, Step 30, Performing validation...\n",
            "Epoch 11, Step 30, Validation Loss (RMSSE): 0.1410\n",
            "Early stopping at epoch 11.\n",
            "Epoch 11 Training RMSSE: 0.6471\n",
            "Epoch 11 Validation Loss (RMSSE): 0.1410\n",
            "Starting training for epoch 12...\n",
            "Epoch 12, Step 30, Performing validation...\n",
            "Epoch 12, Step 30, Validation Loss (RMSSE): 0.1412\n",
            "Early stopping at epoch 12.\n",
            "Epoch 12 Training RMSSE: 0.6504\n",
            "Epoch 12 Validation Loss (RMSSE): 0.1412\n",
            "Starting training for epoch 13...\n",
            "Epoch 13, Step 30, Performing validation...\n",
            "Epoch 13, Step 30, Validation Loss (RMSSE): 0.1421\n",
            "Early stopping at epoch 13.\n",
            "Epoch 13 Training RMSSE: 0.6787\n",
            "Epoch 13 Validation Loss (RMSSE): 0.1421\n",
            "Starting training for epoch 14...\n",
            "Epoch 14, Step 30, Performing validation...\n",
            "Epoch 14, Step 30, Validation Loss (RMSSE): 0.1446\n",
            "Early stopping at epoch 14.\n",
            "Epoch 14 Training RMSSE: 0.6683\n",
            "Epoch 14 Validation Loss (RMSSE): 0.1446\n",
            "Starting training for epoch 15...\n",
            "Epoch 15, Step 30, Performing validation...\n",
            "Epoch 15, Step 30, Validation Loss (RMSSE): 0.1413\n",
            "Early stopping at epoch 15.\n",
            "Epoch 15 Training RMSSE: 0.6534\n",
            "Epoch 15 Validation Loss (RMSSE): 0.1413\n",
            "Starting training for epoch 16...\n",
            "Epoch 16, Step 30, Performing validation...\n",
            "Epoch 16, Step 30, Validation Loss (RMSSE): 0.1405\n",
            "Early stopping at epoch 16.\n",
            "Epoch 16 Training RMSSE: 0.6617\n",
            "Epoch 16 Validation Loss (RMSSE): 0.1405\n",
            "Starting training for epoch 17...\n",
            "Epoch 17, Step 30, Performing validation...\n",
            "Epoch 17, Step 30, Validation Loss (RMSSE): 0.1417\n",
            "Early stopping at epoch 17.\n",
            "Epoch 17 Training RMSSE: 0.6709\n",
            "Epoch 17 Validation Loss (RMSSE): 0.1417\n",
            "Starting training for epoch 18...\n",
            "Epoch 18, Step 30, Performing validation...\n",
            "Epoch 18, Step 30, Validation Loss (RMSSE): 0.1420\n",
            "Early stopping at epoch 18.\n",
            "Epoch 18 Training RMSSE: 0.6674\n",
            "Epoch 18 Validation Loss (RMSSE): 0.1420\n",
            "Starting training for epoch 19...\n",
            "Epoch 19, Step 30, Performing validation...\n",
            "Epoch 19, Step 30, Validation Loss (RMSSE): 0.1425\n",
            "Early stopping at epoch 19.\n",
            "Epoch 19 Training RMSSE: 0.6626\n",
            "Epoch 19 Validation Loss (RMSSE): 0.1425\n",
            "Starting training for epoch 20...\n",
            "Epoch 20, Step 30, Performing validation...\n",
            "Epoch 20, Step 30, Validation Loss (RMSSE): 0.1414\n",
            "Early stopping at epoch 20.\n",
            "Epoch 20 Training RMSSE: 0.6497\n",
            "Epoch 20 Validation Loss (RMSSE): 0.1414\n",
            "Model saved to /content/drive/MyDrive/Dissertation/DissertationData/BestModel0826/bm-gcn-flow0826.params\n"
          ]
        }
      ],
      "source": [
        "train_losses, val_losses, min_val_loss = train_and_evaluate(model, train_loader, val_loader, criterion, optimizer, edge_index, epochs=20, early_stop=5)"
      ]
    },
    {
      "cell_type": "code",
      "source": [
        "# 繪製訓練和驗證損失圖表\n",
        "plt.figure(figsize=(10, 6))\n",
        "plt.plot(train_losses, label='Training Loss', marker='o')\n",
        "plt.plot(val_losses, label='Validation Loss', marker='o')\n",
        "plt.title('Training & Validation Loss Over Epochs (LR=0.001)')\n",
        "plt.xlabel('Epochs')\n",
        "plt.ylabel('Loss (RMSSE)')\n",
        "plt.legend()\n",
        "plt.show()"
      ],
      "metadata": {
        "colab": {
          "base_uri": "https://localhost:8080/",
          "height": 564
        },
        "id": "vXPJsufrxUj5",
        "outputId": "4e929339-c3e8-454c-b2cb-292fbadfc6f2"
      },
      "id": "vXPJsufrxUj5",
      "execution_count": 25,
      "outputs": [
        {
          "output_type": "display_data",
          "data": {
            "text/plain": [
              "<Figure size 1000x600 with 1 Axes>"
            ],
            "image/png": "[encoded data removed]"
          },
          "metadata": {}
        }
      ]
    },
    {
      "cell_type": "markdown",
      "id": "17b22167-9ac3-4799-8642-d13249945b92",
      "metadata": {
        "id": "17b22167-9ac3-4799-8642-d13249945b92"
      },
      "source": [
        "# ***Evaluate***"
      ]
    },
    {
      "cell_type": "code",
      "source": [
        "def calculate_rmse(y_true, y_pred):\n",
        "    \"\"\"\n",
        "    計算 RMSE 的函數。\n",
        "\n",
        "    參數:\n",
        "    - y_true: 真實值 (numpy array)\n",
        "    - y_pred: 預測值 (numpy array)\n",
        "\n",
        "    返回:\n",
        "    - rmse: 計算出的 RMSE 值\n",
        "    \"\"\"\n",
        "    y_true = np.asarray(y_true)\n",
        "    y_pred = np.asarray(y_pred)\n",
        "\n",
        "    mse = np.mean((y_true - y_pred) ** 2)\n",
        "    rmse = np.sqrt(mse)\n",
        "    return rmse\n",
        "\n",
        "def calculate_rmsse(y_true, y_pred, y_train, epsilon=1e-10):\n",
        "    \"\"\"\n",
        "    計算 RMSSE 的函數。\n",
        "\n",
        "    參數:\n",
        "    - y_true: 真實值 (numpy array)\n",
        "    - y_pred: 預測值 (numpy array)\n",
        "    - y_train: 訓練集的真實值 (numpy array)\n",
        "    - epsilon: 防止除零的小正數，默認為1e-10\n",
        "\n",
        "    返回:\n",
        "    - rmsse: 計算出的 RMSSE 值\n",
        "    \"\"\"\n",
        "    y_true = np.asarray(y_true)\n",
        "    y_pred = np.asarray(y_pred)\n",
        "    y_train = np.asarray(y_train)\n",
        "\n",
        "    # 計算均方誤差（MSE）\n",
        "    mse = np.mean((y_true - y_pred) ** 2)\n",
        "\n",
        "    # 計算差分的均方差（用於 RMSSE 計算的分母）\n",
        "    diff = np.diff(y_train, axis=0) ** 2\n",
        "    denominator = np.mean(diff)\n",
        "\n",
        "    # 避免分母為零\n",
        "    if denominator == 0:\n",
        "        denominator = epsilon\n",
        "\n",
        "    rmsse = np.sqrt(mse / denominator)\n",
        "    return rmsse\n",
        "\n",
        "def calculate_mape(y_true, y_pred):\n",
        "    \"\"\"\n",
        "    計算 MAPE 的函數。\n",
        "\n",
        "    參數:\n",
        "    - y_true: 真實值 (numpy array)\n",
        "    - y_pred: 預測值 (numpy array)\n",
        "\n",
        "    返回:\n",
        "    - mape: 計算出的 MAPE 值，以百分比表示\n",
        "    \"\"\"\n",
        "    y_true = np.asarray(y_true)\n",
        "    y_pred = np.asarray(y_pred)\n",
        "\n",
        "    # 忽略 y_true 為零的情況\n",
        "    non_zero_indices = y_true != 0\n",
        "    y_true = y_true[non_zero_indices]\n",
        "    y_pred = y_pred[non_zero_indices]\n",
        "\n",
        "    mape = np.mean(np.abs((y_true - y_pred) / y_true)) * 100\n",
        "    return mape"
      ],
      "metadata": {
        "id": "v2un6XK7IhTF"
      },
      "id": "v2un6XK7IhTF",
      "execution_count": 42,
      "outputs": []
    },
    {
      "cell_type": "code",
      "source": [
        "def calculate_wrmsse(y_true, y_pred, y_train, weights=None, epsilon=1e-10):\n",
        "    \"\"\"\n",
        "    計算 WRMSSE 的函數。\n",
        "\n",
        "    參數:\n",
        "    - y_true: 真實值 (numpy array)\n",
        "    - y_pred: 預測值 (numpy array)\n",
        "    - y_train: 訓練集的真實值 (numpy array)\n",
        "    - weights: 每個時間序列的權重 (numpy array)，默認為 None\n",
        "    - epsilon: 防止除零的小正數\n",
        "\n",
        "    返回:\n",
        "    - wrmsse: 计算出的 WRMSSE 值\n",
        "    \"\"\"\n",
        "    # 確保輸入是 numpy 陣列\n",
        "    y_true = np.asarray(y_true)\n",
        "    y_pred = np.asarray(y_pred)\n",
        "    y_train = np.asarray(y_train)\n",
        "\n",
        "    # 計算每個時間序列的均方誤差（MSE）\n",
        "    mse = np.mean((y_true - y_pred) ** 2, axis=0)\n",
        "\n",
        "    # 計算差分的均方差（用於 RMSSE 計算的分母）\n",
        "    diff = np.diff(y_train, axis=0) ** 2\n",
        "    denominator = np.mean(diff, axis=0)\n",
        "\n",
        "    # 避免分母為零：將分母為零的地方設置為一個小正數\n",
        "    denominator = np.where(denominator > epsilon, denominator, epsilon)\n",
        "\n",
        "    # 計算每個時間序列的 RMSSE\n",
        "    rmsse = np.sqrt(mse / denominator)\n",
        "\n",
        "    # 計算加權 RMSSE\n",
        "    if weights is not None:\n",
        "        weights = np.asarray(weights)\n",
        "        if weights.shape[0] != rmsse.shape[0]:\n",
        "            raise ValueError(\"Weights length must match the number of series.\")\n",
        "        wrmsse = np.sum(weights * rmsse)\n",
        "    else:\n",
        "        wrmsse = np.mean(rmsse)\n",
        "\n",
        "    return wrmsse"
      ],
      "metadata": {
        "id": "RfmC9uphKP03"
      },
      "id": "RfmC9uphKP03",
      "execution_count": 43,
      "outputs": []
    },
    {
      "cell_type": "code",
      "source": [
        "# 使用訓練集計算 RMSSE 和 WRMSSE\n",
        "y_train_np = train_target_tensor.cpu().numpy()\n",
        "\n",
        "# 計算基於總和的權重\n",
        "weights = np.sum(y_train_np, axis=0) / np.sum(y_train_np)"
      ],
      "metadata": {
        "id": "fFhJjUswKoaI"
      },
      "id": "fFhJjUswKoaI",
      "execution_count": 44,
      "outputs": []
    },
    {
      "cell_type": "code",
      "execution_count": 45,
      "id": "a15de3cb-2d3f-46b5-bc43-253c5add8978",
      "metadata": {
        "id": "a15de3cb-2d3f-46b5-bc43-253c5add8978",
        "outputId": "524be3c1-07e6-49ff-c64a-684bd55de376",
        "colab": {
          "base_uri": "https://localhost:8080/"
        }
      },
      "outputs": [
        {
          "output_type": "stream",
          "name": "stdout",
          "text": [
            "Testing loss: 0.2216\n"
          ]
        }
      ],
      "source": [
        "# 切換模型到評估模式\n",
        "model.eval()\n",
        "test_loss = 0\n",
        "\n",
        "all_outputs = []  # 用於保存所有批次的預測結果\n",
        "all_labels = []  # 用於保存所有批次的真實標籤\n",
        "\n",
        "with torch.no_grad():  # 在測試過程中禁用梯度計算\n",
        "    for batch_data in test_loader:\n",
        "        encoder_inputs, labels = batch_data\n",
        "        encoder_inputs = encoder_inputs.to(DEVICE)  # 將數據移動到 GPU\n",
        "        labels = labels.to(DEVICE)\n",
        "        edge_index = edge_index.to(DEVICE)\n",
        "\n",
        "        # 模型推斷\n",
        "        y_hat = model(encoder_inputs, edge_index)\n",
        "\n",
        "        # 計算損失\n",
        "        if masked_flag:\n",
        "            mask = (labels != missing_value).float()\n",
        "            loss = (criterion(y_hat, labels, encoder_inputs) * mask).mean()\n",
        "        else:\n",
        "            loss = criterion(y_hat, labels, encoder_inputs)\n",
        "\n",
        "        test_loss += loss.item()\n",
        "\n",
        "        # 保存當前批次的預測結果和真實標籤\n",
        "        all_outputs.append(y_hat.cpu().numpy())  # 轉換到 numpy array\n",
        "        all_labels.append(labels.cpu().numpy())  # 轉換到 numpy array\n",
        "\n",
        "# 計算平均測試損失\n",
        "test_loss /= len(test_loader)\n",
        "print(f\"Testing loss: {test_loss:.4f}\")"
      ]
    },
    {
      "cell_type": "code",
      "source": [
        "# 將所有批次的預測結果和真實標籤合併為單個數組\n",
        "y_test_pred = np.concatenate(all_outputs, axis=0)\n",
        "y_test_true = np.concatenate(all_labels, axis=0)\n",
        "\n",
        "# 計算 RMSE\n",
        "rmse = calculate_rmse(y_test_true, y_test_pred)\n",
        "print(f'Test RMSE: {rmse:.4f}')\n",
        "\n",
        "# 計算 RMSSE\n",
        "rmsse = calculate_rmsse(y_test_true, y_test_pred, y_train_np)\n",
        "print(f'Test RMSSE: {rmsse:.4f}')\n",
        "\n",
        "# 計算 MAPE\n",
        "mape = calculate_mape(y_test_true, y_test_pred)\n",
        "print(f'Test MAPE: {mape:.2f}%')\n",
        "\n",
        "# 計算 WRMSSE，使用正確的權重\n",
        "wrmsse = calculate_wrmsse(y_test_true, y_test_pred, y_train_np, weights=weights)\n",
        "print(f'Test WRMSSE: {wrmsse:.4f}')"
      ],
      "metadata": {
        "colab": {
          "base_uri": "https://localhost:8080/"
        },
        "id": "sVGIsStPI-iA",
        "outputId": "a83bfaa7-aea7-4912-f4ad-2d40c16f900d"
      },
      "id": "sVGIsStPI-iA",
      "execution_count": 46,
      "outputs": [
        {
          "output_type": "stream",
          "name": "stdout",
          "text": [
            "Test RMSE: 1.8623\n",
            "Test RMSSE: 0.8325\n",
            "Test MAPE: 70.63%\n",
            "Test WRMSSE: 0.7919\n"
          ]
        }
      ]
    },
    {
      "cell_type": "markdown",
      "source": [
        "1. **Test RMSE (1.8623)**:\n",
        "   - 這個值表示預測值和真實值之間的均方根誤差。它是一個絕對指標，沒有考慮每個時間序列的變異性。\n",
        "   - **RMSE** 在 1.8623 這個範圍內，表示模型在測試數據上的平均預測誤差大約是 1.86 個單位。\n",
        "\n",
        "2. **Test RMSSE (0.8325)**:\n",
        "   - **RMSSE** 是對 RMSE 的標準化，使其能夠更好地比較不同序列或不同模型的預測誤差。值越接近 0，表示預測誤差越小。\n",
        "   - RMSSE 的值為 0.8325 表明模型的預測誤差相對於序列自身的變化範圍是相對較小的。\n",
        "\n",
        "3. **Test MAPE (70.63%)**:\n",
        "   - **MAPE** (Mean Absolute Percentage Error) 表示預測值與真實值之間的平均百分比誤差。\n",
        "   - 70.63% 的 MAPE 表明預測與實際值之間的偏差相對較高。這可能意味著模型在某些數據點的預測不準確，特別是當真實值非常小的時候，MAPE 會變得非常敏感。\n",
        "\n",
        "4. **Test WRMSSE (0.7919)**:\n",
        "   - **WRMSSE** 是加權的 RMSSE，考慮了每個時間序列的重要性。這個值的降低表明模型現在更均勻地處理了不同時間序列的誤差，並且權重設置得當。\n",
        "   - WRMSSE 值為 0.7919 表明，考慮了各時間序列的權重後，模型的整體預測誤差進一步減小。"
      ],
      "metadata": {
        "id": "qoIcRU5cNXJB"
      },
      "id": "qoIcRU5cNXJB"
    },
    {
      "cell_type": "code",
      "source": [],
      "metadata": {
        "id": "FJdaCZwYNf0g"
      },
      "id": "FJdaCZwYNf0g",
      "execution_count": null,
      "outputs": []
    }
  ],
  "metadata": {
    "accelerator": "GPU",
    "colab": {
      "gpuType": "L4",
      "provenance": []
    },
    "kernelspec": {
      "display_name": "Python 3",
      "name": "python3"
    },
    "language_info": {
      "codemirror_mode": {
        "name": "ipython",
        "version": 3
      },
      "file_extension": ".py",
      "mimetype": "text/x-python",
      "name": "python",
      "nbconvert_exporter": "python",
      "pygments_lexer": "ipython3",
      "version": "3.10.14"
    }
  },
  "nbformat": 4,
  "nbformat_minor": 5
}