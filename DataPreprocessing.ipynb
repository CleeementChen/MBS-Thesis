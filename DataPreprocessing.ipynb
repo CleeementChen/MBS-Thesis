{
 "cells": [
  {
   "cell_type": "code",
   "execution_count": 15,
   "id": "07ce6cb0-19ce-48e0-a4f1-4a5be290615b",
   "metadata": {},
   "outputs": [],
   "source": [
    "import pandas as pd\n",
    "import numpy as np\n",
    "\n",
    "import torch\n",
    "import torch.nn.functional as F\n",
    "\n",
    "from sklearn.metrics.pairwise import cosine_similarity"
   ]
  },
  {
   "cell_type": "markdown",
   "id": "94ccd62b-75e7-47e9-84e8-3ec7378979e8",
   "metadata": {},
   "source": [
    "# ***Data Preprocessing***"
   ]
  },
  {
   "cell_type": "code",
   "execution_count": 2,
   "id": "de7176d3-c6bf-47b9-8ac5-f40f231b35bd",
   "metadata": {},
   "outputs": [
    {
     "data": {
      "text/plain": [
       "(5650, 1947)"
      ]
     },
     "execution_count": 2,
     "metadata": {},
     "output_type": "execute_result"
    }
   ],
   "source": [
    "df = pd.read_csv('m5-forecasting-accuracy/sales_train_evaluation.csv')\n",
    "# 抓出 cat_id 為 \"HOBBIES\" 的數據\n",
    "df_hobbies = df[df['cat_id'] == 'HOBBIES']\n",
    "df_hobbies.shape"
   ]
  },
  {
   "cell_type": "code",
   "execution_count": 3,
   "id": "bbdb977e-60ab-40da-b7b4-2f5f51979d7b",
   "metadata": {},
   "outputs": [
    {
     "name": "stdout",
     "output_type": "stream",
     "text": [
      "CSV 檔案中不存在 null 或 NaN 值。\n"
     ]
    }
   ],
   "source": [
    "# 檢查是否有任何 NaN 值\n",
    "if df_hobbies.isnull().values.any():\n",
    "    print(\"CSV 檔案中存在 null 或 NaN 值。\")\n",
    "    # 打印出包含 null 或 NaN 值的行和列\n",
    "    print(\"包含 NaN 的行：\")\n",
    "    print(df_hobbies[df_hobbies.isnull().any(axis=1)])\n",
    "else:\n",
    "    print(\"CSV 檔案中不存在 null 或 NaN 值。\")"
   ]
  },
  {
   "cell_type": "code",
   "execution_count": 4,
   "id": "88341fd6-f122-40f3-8b2e-2615c7b4686d",
   "metadata": {},
   "outputs": [
    {
     "name": "stdout",
     "output_type": "stream",
     "text": [
      "(5650, 1941)\n"
     ]
    }
   ],
   "source": [
    "# 3. 提取所有日期列\n",
    "date_columns = [col for col in df_hobbies.columns if col.startswith('d_')]\n",
    "total_days = len(date_columns)  # 確認總共有多少天\n",
    "\n",
    "# 4. 篩選出這些天數的銷售數據\n",
    "sales_data_days = df_hobbies[date_columns]\n",
    "\n",
    "print(sales_data_days.shape)  # 應該會輸出 (5650, total_days)"
   ]
  },
  {
   "cell_type": "code",
   "execution_count": 5,
   "id": "d87a8114-f2d2-454a-a5a2-04c9fefc9685",
   "metadata": {},
   "outputs": [
    {
     "name": "stdout",
     "output_type": "stream",
     "text": [
      "File saved successfully\n"
     ]
    }
   ],
   "source": [
    "try:\n",
    "    sales_data_days.to_csv(\"hobbies.csv\", index=False)  # 將 DataFrame 儲存為 CSV 文件\n",
    "    print(\"File saved successfully\")\n",
    "except Exception as e:\n",
    "    print(f\"An error occurred: {e}\")"
   ]
  },
  {
   "cell_type": "code",
   "execution_count": 6,
   "id": "3f4002c9-15b0-4673-bc1c-ec293800c014",
   "metadata": {},
   "outputs": [
    {
     "name": "stdout",
     "output_type": "stream",
     "text": [
      "Node features shape: torch.Size([5650, 1940])\n",
      "Labels shape: torch.Size([5650, 1940])\n",
      "Edge index shape: torch.Size([2, 47624])\n",
      "Edge attr shape: torch.Size([47624])\n"
     ]
    }
   ],
   "source": [
    "# 5. 將 DataFrame 轉換為 PyTorch 張量\n",
    "node_features_tensor = torch.tensor(sales_data_days.iloc[:, :-1].values, dtype=torch.float)  # 前面的1940\n",
    "labels_tensor = torch.tensor(sales_data_days.iloc[:, 1:].values, dtype=torch.float)  # 第 2 到 1941 天作為標籤\n",
    "\n",
    "print(\"Node features shape:\", node_features_tensor.shape)  # 應該會輸出 (5650, 364)\n",
    "print(\"Labels shape:\", labels_tensor.shape)  # 應該會輸出 (5650, 364)\n",
    "\n",
    "# Step 6: 計算餘弦相似度矩陣\n",
    "# 先進行 L2 正規化（將每個向量的長度歸一化）\n",
    "normalized_features = torch.nn.functional.normalize(node_features_tensor, p=2, dim=1)\n",
    "\n",
    "# 計算餘弦相似度矩陣\n",
    "cosine_sim_matrix = torch.matmul(normalized_features, normalized_features.t())\n",
    "\n",
    "# 7. 設置相似度的閾值，將餘弦相似度矩陣轉換為鄰接矩陣\n",
    "threshold = 0.5\n",
    "adj_matrix = (cosine_sim_matrix > threshold).float()\n",
    "\n",
    "# 8. 獲取非零元素的索引，作為邊的連接關係 (edge_index)\n",
    "edge_index = adj_matrix.nonzero(as_tuple=False).t()\n",
    "\n",
    "# 9. 根據鄰接矩陣提取對應的相似度值，作為 edge_attr\n",
    "edge_attr = cosine_sim_matrix[adj_matrix.bool()]\n",
    "\n",
    "# 現在我們有了全部的 PyTorch 張量，不需要使用 NumPy\n",
    "print(\"Edge index shape:\", edge_index.shape)\n",
    "print(\"Edge attr shape:\", edge_attr.shape)"
   ]
  },
  {
   "cell_type": "code",
   "execution_count": 7,
   "id": "249f7516-309d-4e00-9278-c0b1fc8aab1c",
   "metadata": {},
   "outputs": [],
   "source": [
    "# 10. 將 1941 天的features和 1940 天的labels 分割為 x 天一組 (timesteps)\n",
    "timesteps = 1 #每個片段的長度 #This effects to the running speed in CPU/GPU\n",
    "num_nodes = 5650 #樣本數(商品數量)\n",
    "num_features = 1 #每個商品每次記錄中的特徵數量\n",
    "\n",
    "# 將特徵數據進行 reshape，將它轉換為 [num_nodes, num_features, 1940]\n",
    "x = node_features_tensor.view(num_nodes, num_features, -1)\n",
    "\n",
    "# 分割特徵為 [num_nodes, num_features, timesteps]\n",
    "features_list = [x[:, :, i:i+timesteps] for i in range(0, x.size(2) - timesteps + 1, timesteps)]\n",
    "\n",
    "# 同樣處理 targets，將它轉換為 [num_nodes, 364]\n",
    "y = labels_tensor.view(num_nodes, -1)\n",
    "\n",
    "# 分割標籤為 [num_nodes, timesteps]\n",
    "targets_list = [y[:, i:i+timesteps].numpy() for i in range(0, y.size(1) - timesteps + 1, timesteps)]\n",
    "\n",
    "# 將特徵保留為 PyTorch 張量，並將標籤轉換為 NumPy 陣列，避免 attribute error\n",
    "features_list = [f.numpy() for f in features_list]"
   ]
  },
  {
   "cell_type": "code",
   "execution_count": 11,
   "id": "748dbd1b-b723-4357-b1fe-331093a21ff5",
   "metadata": {},
   "outputs": [],
   "source": [
    "# 將數據集的組件保存到文件\n",
    "torch.save({\n",
    "    'edge_index': edge_index,\n",
    "    'edge_attr': edge_attr,\n",
    "    'features': features_list,\n",
    "    'targets': targets_list\n",
    "}, 'static_graph_temporal_signal.pt')"
   ]
  },
  {
   "cell_type": "code",
   "execution_count": 14,
   "id": "f0335ed5-781b-4271-bd6f-8a329200becd",
   "metadata": {},
   "outputs": [],
   "source": [
    "# Save the adjacency matrix to a .npy file\n",
    "np.save('adj_matrix.npy', adj_matrix)"
   ]
  }
 ],
 "metadata": {
  "kernelspec": {
   "display_name": "Python 3 (ipykernel)",
   "language": "python",
   "name": "python3"
  },
  "language_info": {
   "codemirror_mode": {
    "name": "ipython",
    "version": 3
   },
   "file_extension": ".py",
   "mimetype": "text/x-python",
   "name": "python",
   "nbconvert_exporter": "python",
   "pygments_lexer": "ipython3",
   "version": "3.10.14"
  }
 },
 "nbformat": 4,
 "nbformat_minor": 5
}
